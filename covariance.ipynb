{
 "cells": [
  {
   "cell_type": "code",
   "execution_count": 2,
   "id": "a8e96528-0787-4636-b1f1-1c1013a457c0",
   "metadata": {},
   "outputs": [],
   "source": [
    "import numpy as np\n",
    "import healpy as hp\n",
    "import matplotlib.pyplot as plt\n",
    "import scipy as sp\n",
    "import pymaster as nmt\n",
    "from tqdm import tqdm"
   ]
  },
  {
   "cell_type": "code",
   "execution_count": 3,
   "id": "454ca89f-c48a-45b6-a5ee-b29e148ac4b1",
   "metadata": {},
   "outputs": [],
   "source": [
    "def get_Cl(nside, mode):\n",
    "    lmax = 3*nside-1\n",
    "    l = np.arange(lmax+1)\n",
    "    C_l = 1/l**2\n",
    "    C_l[0:2] = 0\n",
    "    \n",
    "    # sigmab = hp.nside2resol(nside) \n",
    "    # fwhm = (8*np.log(2))**0.5 * sigmab\n",
    "    # bl = hp.gauss_beam(fwhm, lmax)\n",
    "    \n",
    "    if mode == 'EE':\n",
    "        C_l = np.array([np.zeros_like(C_l), C_l, np.zeros_like(C_l), np.zeros_like(C_l)]) # TT EE BB TE\n",
    "    if mode == 'BB':\n",
    "        C_l = np.array([np.zeros_like(C_l), np.zeros_like(C_l), C_l, np.zeros_like(C_l)])\n",
    "    return C_l #* bl**2"
   ]
  },
  {
   "cell_type": "code",
   "execution_count": 4,
   "id": "a5864830-19f8-4885-abc9-d4588cfd51c5",
   "metadata": {},
   "outputs": [],
   "source": [
    "def P_l2(ll, z):\n",
    "    P2 = 3*(1-z**2)\n",
    "    P3 = 5*z*P2\n",
    "    P = [0,0,P2,P3]\n",
    "    if len(ll) <= 4:\n",
    "        P = P[:ll.max()+1]\n",
    "    else:\n",
    "        for l in range(4, ll.max()+1):\n",
    "            P.append( ( (2*l-1) * z * P[l-1] - (l+1) * P[l-2] ) / (l-2) )\n",
    "    return np.pad(np.array(P), (np.abs(ll.min()),0))"
   ]
  },
  {
   "cell_type": "code",
   "execution_count": 5,
   "id": "8963d6da-eaf2-4f1d-b4a5-362583c3e4d9",
   "metadata": {},
   "outputs": [],
   "source": [
    "#bicep implementation\n",
    "\n",
    "def get_a_ij(r_i, r_j):    \n",
    "    z_hat = np.array([0,0,1])\n",
    "\n",
    "    n_ij = np.cross(r_i, r_j)#/np.linalg.norm(np.cross(r_i, r_j))\n",
    "    n_i = np.cross(r_i, z_hat)#/np.linalg.norm(np.cross(r_i, z_hat))\n",
    "\n",
    "    a_ij = np.arctan2( np.dot(np.cross(n_ij, n_i), r_i), np.dot(n_ij, n_i) )\n",
    "        \n",
    "    return a_ij\n",
    "\n",
    "def get_R(a):\n",
    "    return np.array([\n",
    "        [np.cos(2*a), -np.sin(2*a)],\n",
    "        [np.sin(2*a), np.cos(2*a)]\n",
    "    ])"
   ]
  },
  {
   "cell_type": "code",
   "execution_count": 6,
   "id": "f20a7f33-eb2f-4a8f-b67f-03a48c9813a5",
   "metadata": {},
   "outputs": [],
   "source": [
    "def F_12(l, z):\n",
    "    if np.round(z, 15) == 1:\n",
    "        return 0.5*np.ones_like(l) \n",
    "    if np.round(z, 15) == -1:\n",
    "        # print('z=-1')\n",
    "        return 0.5*(-1)**l\n",
    "    else:\n",
    "        F = 2 * ( ((l+2)*z)/(1-z**2) * P_l2(l-1,z) - ((l-4)/(1-z**2) + l*(l-1)/2) * P_l2(l,z) ) / ((l-1)*l*(l+1)*(l+2))\n",
    "        F[0:2] = 0     \n",
    "        return F \n",
    "        \n",
    "def F_22(l, z):\n",
    "    if np.round(z, 15) == 1:\n",
    "        return -0.5*np.ones_like(l) \n",
    "    if np.round(z, 15) == -1:\n",
    "        # print('z=-1')\n",
    "        return 0.5*(-1)**l\n",
    "    else:\n",
    "        F = 4 * ( (l+2)*P_l2(l-1,z) - (l-1)*z*P_l2(l,z) ) / ( (l-1)*l*(l+1)*(l+2)*(1-z**2) )\n",
    "        F[0:2] = 0\n",
    "        return F"
   ]
  },
  {
   "cell_type": "code",
   "execution_count": 7,
   "id": "9d275f84-9e71-4d9d-9fdb-e7830252d128",
   "metadata": {},
   "outputs": [],
   "source": [
    "def QQ_ij(l, Cl, z):\n",
    "    return np.sum( (2*l+1) /(4*np.pi) * (F_12(l,z)*Cl[1] - F_22(l,z)*Cl[2]) )\n",
    "\n",
    "def UU_ij(l, Cl, z):\n",
    "    return np.sum( (2*l+1) /(4*np.pi) * (F_12(l,z)*Cl[2] - F_22(l,z)*Cl[1]) )\n",
    "\n",
    "def get_M_ij(l, Cl, z):\n",
    "    QQ = QQ_ij(l, Cl, z)\n",
    "    UU = UU_ij(l, Cl, z)\n",
    "    return np.array([\n",
    "        [QQ, np.zeros_like(QQ)],\n",
    "        [np.zeros_like(UU), UU]\n",
    "    ])"
   ]
  },
  {
   "cell_type": "code",
   "execution_count": 8,
   "id": "1bd3836c-96bd-4a01-aa85-f360eb876590",
   "metadata": {},
   "outputs": [],
   "source": [
    "def C_ana(nside, Cl, mask=None):\n",
    "    lmax = 3*nside-1\n",
    "    npix = 12*nside**2\n",
    "    l = np.arange(lmax+1)\n",
    "\n",
    "    if mask is None:\n",
    "        pix = range(npix)    \n",
    "        C = np.zeros((2*npix, 2*npix))\n",
    "        \n",
    "    else:\n",
    "        pix = np.where(mask!=0)[0]\n",
    "        row = []\n",
    "        col = []\n",
    "        data = []\n",
    "    \n",
    "    for i in tqdm(pix):\n",
    "        for j in pix:\n",
    "            if i == j:\n",
    "                a_ij = 0\n",
    "                a_ji = 0\n",
    "                z = 1\n",
    "            else:\n",
    "                r_i = hp.pix2vec(nside, i)  \n",
    "                r_j = hp.pix2vec(nside, j)\n",
    "                z = np.dot(r_i, r_j)\n",
    "                # print(i, j)\n",
    "                a_ij = get_a_ij(r_i, r_j)\n",
    "                a_ji = get_a_ij(r_j, r_i)\n",
    "                \n",
    "            R_ij = get_R(a_ij)\n",
    "            R_ji = get_R(a_ji)\n",
    "            \n",
    "            M = get_M_ij(l, Cl, z)\n",
    "            cov = R_ij.T @ M @ R_ji\n",
    "\n",
    "            if mask is None:\n",
    "                C[i][j] = cov[0][0]\n",
    "                C[i][j+npix] = cov[0][1]\n",
    "                C[i+npix][j] = cov[1][0]\n",
    "                C[i+npix][j+npix] = cov[1][1]   \n",
    "                \n",
    "            else:\n",
    "                row.append(i)\n",
    "                col.append(j)\n",
    "                data.append(cov[0][0])\n",
    "    \n",
    "                row.append(i)\n",
    "                col.append(j+npix)\n",
    "                data.append(cov[0][1])\n",
    "    \n",
    "                row.append(i+npix)\n",
    "                col.append(j)\n",
    "                data.append(cov[1][0])\n",
    "    \n",
    "                row.append(i+npix)\n",
    "                col.append(j+npix)\n",
    "                data.append(cov[1][1])\n",
    "\n",
    "    if mask is not None:\n",
    "        C = sp.sparse.coo_array((data, (row, col)), shape=(2*npix, 2*npix))\n",
    "        \n",
    "    assert np.abs(C-C.T).max() < 1e-15\n",
    "    \n",
    "    return C"
   ]
  },
  {
   "cell_type": "code",
   "execution_count": 9,
   "id": "531195c7-0d2e-4f64-ad6a-1a3603a81475",
   "metadata": {},
   "outputs": [
    {
     "name": "stderr",
     "output_type": "stream",
     "text": [
      "/tmp/ipykernel_4913/3391188291.py:4: RuntimeWarning: divide by zero encountered in divide\n",
      "  C_l = 1/l**2\n"
     ]
    }
   ],
   "source": [
    "nside = 64\n",
    "lmax = 3*nside-1\n",
    "npix = 12*nside**2\n",
    "l = np.arange(lmax+1)\n",
    "c2d = l*(l+1)/2/np.pi\n",
    "\n",
    "hits = hp.read_map(f'obsmat_nside{nside}/out/0/filterbin_hits.fits')\n",
    "non_zero = np.where(hits!=0)[0]\n",
    "\n",
    "mask = np.zeros_like(hits)\n",
    "mask[non_zero] = 1\n",
    "mask_apo = nmt.mask_apodization(mask, 8, apotype='C2')\n",
    "\n",
    "Z = sp.sparse.diags_array(mask_apo)\n",
    "ZZ = sp.sparse.block_diag([Z, Z])\n",
    "\n",
    "R_unapo = sp.sparse.load_npz(f'obsmat_nside{nside}/obsmat.npz')[npix:, npix:] #Gets QU \n",
    "R = ZZ @ R_unapo\n",
    "\n",
    "Cl_EEonly = get_Cl(nside, 'EE')\n",
    "Cl_BBonly = get_Cl(nside, 'BB')"
   ]
  },
  {
   "cell_type": "code",
   "execution_count": 9,
   "id": "025cfdd6-2cfa-4132-a0f6-a888d5bcee31",
   "metadata": {},
   "outputs": [],
   "source": [
    "# nmc = 1024\n",
    "# C_mc = np.zeros((2*npix, 2*npix))\n",
    "\n",
    "# for i in range(nmc):\n",
    "#     np.random.seed(i)\n",
    "#     m = hp.synfast(Cl_EEonly, nside, new=True)    \n",
    "#     m -= np.mean(m)\n",
    "#     m_QU = np.concatenate([m[1], m[2]])\n",
    "#     C_mc += np.outer(m_QU, m_QU)\n",
    "\n",
    "# C_mc /= nmc"
   ]
  },
  {
   "cell_type": "code",
   "execution_count": 10,
   "id": "9ae89b08-fce0-41fa-86c1-a545eac0b299",
   "metadata": {},
   "outputs": [
    {
     "name": "stderr",
     "output_type": "stream",
     "text": [
      "  0%|                                                    | 0/52 [00:00<?, ?it/s]/tmp/ipykernel_14421/623331083.py:8: RuntimeWarning: invalid value encountered in divide\n",
      "  F = 2 * ( ((l+2)*z)/(1-z**2) * P_l2(l-1,z) - ((l-4)/(1-z**2) + l*(l-1)/2) * P_l2(l,z) ) / ((l-1)*l*(l+1)*(l+2))\n",
      "/tmp/ipykernel_14421/623331083.py:19: RuntimeWarning: invalid value encountered in divide\n",
      "  F = 4 * ( (l+2)*P_l2(l-1,z) - (l-1)*z*P_l2(l,z) ) / ( (l-1)*l*(l+1)*(l+2)*(1-z**2) )\n",
      "100%|███████████████████████████████████████████| 52/52 [00:02<00:00, 17.96it/s]\n",
      "100%|███████████████████████████████████████████| 52/52 [00:02<00:00, 17.90it/s]\n"
     ]
    }
   ],
   "source": [
    "# C_E = C_ana(nside, Cl_EEonly, mask)\n",
    "# C_B = C_ana(nside, Cl_BBonly, mask)\n",
    "\n",
    "# sp.sparse.save_npz(f'C_E_{nside}', C_E)\n",
    "# sp.sparse.save_npz(f'C_B_{nside}', C_B)"
   ]
  },
  {
   "cell_type": "code",
   "execution_count": 10,
   "id": "159b8fb7-7d3a-45d0-9ea1-b4165a70752b",
   "metadata": {},
   "outputs": [],
   "source": [
    "C_E = sp.sparse.load_npz(f'C_E_{nside}.npz')\n",
    "C_B = sp.sparse.load_npz(f'C_B_{nside}.npz')"
   ]
  },
  {
   "cell_type": "code",
   "execution_count": 11,
   "id": "68ed4252-81b1-4a23-a279-b463180e2da2",
   "metadata": {},
   "outputs": [],
   "source": [
    "obs_C_E = R @ C_E @ R.T\n",
    "obs_C_B = R @ C_B @ R.T"
   ]
  },
  {
   "cell_type": "code",
   "execution_count": null,
   "id": "1286ca97-88e2-47f7-9674-aa0f773055ea",
   "metadata": {},
   "outputs": [],
   "source": [
    "# sparse\n",
    "diag_E = obs_C_E.diagonal()\n",
    "diag_B = obs_C_B.diagonal()\n",
    "\n",
    "sigma = (np.mean(diag_E[diag_E!=0]) + np.mean(diag_B[diag_B!=0])) / 2 /1000\n",
    "factor = sp.sparse.identity(obs_C_E.shape[0])*sigma**2"
   ]
  },
  {
   "cell_type": "code",
   "execution_count": 25,
   "id": "f79c0715-2270-4205-b0d1-a537f99ed8e1",
   "metadata": {},
   "outputs": [],
   "source": [
    "eigs, v = sp.sparse.linalg.eigsh(obs_C_B+factor, 2000, obs_C_E+factor)"
   ]
  },
  {
   "cell_type": "code",
   "execution_count": 26,
   "id": "e54e3a66-13e5-4f77-a15c-98cf31a0b162",
   "metadata": {},
   "outputs": [],
   "source": [
    "# #dense\n",
    "# diag_E = np.diag(obs_C_E.toarray())\n",
    "# diag_B = np.diag(obs_C_B.toarray())\n",
    "\n",
    "# sigma = (np.mean(diag_E[diag_E!=0]) + np.mean(diag_B[diag_B!=0])) /2 /1000\n",
    "# factor = np.eye(C_E.shape[0]) * sigma **2\n",
    "\n",
    "# eigs, v = sp.linalg.eigh(obs_C_B.toarray()+factor, obs_C_E.toarray()+factor)"
   ]
  },
  {
   "cell_type": "code",
   "execution_count": 27,
   "id": "d111639c-45c2-4910-bd1a-b3b3c25c27ab",
   "metadata": {},
   "outputs": [
    {
     "data": {
      "image/png": "[encoded data removed]",
      "text/plain": [
       "<Figure size 640x480 with 1 Axes>"
      ]
     },
     "metadata": {},
     "output_type": "display_data"
    }
   ],
   "source": [
    "plt.plot(eigs, marker='.', linestyle='None')\n",
    "plt.semilogy()\n",
    "plt.grid()"
   ]
  },
  {
   "cell_type": "code",
   "execution_count": 28,
   "id": "e3f98b25-ba67-48a6-bfb1-8c13865895c7",
   "metadata": {},
   "outputs": [],
   "source": [
    "# ambi = 0\n",
    "# for eig in eigsh:\n",
    "#     if np.isclose(eig, 1):\n",
    "#         ambi += 1\n",
    "# ambi / len(eigs)"
   ]
  },
  {
   "cell_type": "code",
   "execution_count": 29,
   "id": "47340868-751d-449c-9cd5-5e83b82923b0",
   "metadata": {},
   "outputs": [],
   "source": [
    "# purification\n",
    "cut = 1.02\n",
    "pass_cut = np.where(eigs >= cut)[0]"
   ]
  },
  {
   "cell_type": "code",
   "execution_count": 30,
   "id": "9eab6363-0887-49e3-8e84-b0c82f0e9624",
   "metadata": {},
   "outputs": [
    {
     "data": {
      "text/plain": [
       "(98304, 2000)"
      ]
     },
     "execution_count": 30,
     "metadata": {},
     "output_type": "execute_result"
    }
   ],
   "source": [
    "pure_b = v[:, pass_cut]\n",
    "pure_b.shape"
   ]
  },
  {
   "cell_type": "code",
   "execution_count": 31,
   "id": "29ae4e59-8e6e-4451-8fd8-3bc3aa5db34e",
   "metadata": {},
   "outputs": [
    {
     "data": {
      "text/plain": [
       "-35756.15436395793"
      ]
     },
     "execution_count": 31,
     "metadata": {},
     "output_type": "execute_result"
    }
   ],
   "source": [
    "pure_b[:,0] @ pure_b[:,-1]"
   ]
  },
  {
   "cell_type": "code",
   "execution_count": 33,
   "id": "3ac56722-caa0-40d2-a9a8-1f37e9f47263",
   "metadata": {},
   "outputs": [
    {
     "data": {
      "text/plain": [
       "-0.0001843358174970543"
      ]
     },
     "execution_count": 33,
     "metadata": {},
     "output_type": "execute_result"
    }
   ],
   "source": [
    "mask_QU = np.concatenate([mask, mask])\n",
    "zeros = np.where(mask_QU==0)[0]\n",
    "\n",
    "for i in range(pure_b.shape[1]):    \n",
    "    pure_b[:,i][zeros] = 0\n",
    "    pure_b[:,i] /= np.linalg.norm(pure_b[:,i], axis=0)\n",
    "\n",
    "pure_b[:,0] @ pure_b[:,-1]"
   ]
  },
  {
   "cell_type": "code",
   "execution_count": 42,
   "id": "da900338-9e12-4206-a685-79da43a8d1f0",
   "metadata": {},
   "outputs": [
    {
     "data": {
      "image/png": "[encoded data removed]",
      "text/plain": [
       "<Figure size 850x540 with 2 Axes>"
      ]
     },
     "metadata": {},
     "output_type": "display_data"
    }
   ],
   "source": [
    "hp.mollview(pure_b[:,-100].reshape(2, npix)[0])"
   ]
  },
  {
   "cell_type": "code",
   "execution_count": 43,
   "id": "04a0453f-868a-4c7c-b97c-9d30200d2e0f",
   "metadata": {},
   "outputs": [
    {
     "data": {
      "text/plain": [
       "<98304x2000 sparse array of type '<class 'numpy.float64'>'\n",
       "\twith 9036000 stored elements in Compressed Sparse Row format>"
      ]
     },
     "execution_count": 43,
     "metadata": {},
     "output_type": "execute_result"
    }
   ],
   "source": [
    "#Sparse\n",
    "pure_b = sp.sparse.csr_array(pure_b)\n",
    "pure_b"
   ]
  },
  {
   "cell_type": "code",
   "execution_count": 62,
   "id": "b685a9a5-ba38-4814-b57a-81e20df4a496",
   "metadata": {},
   "outputs": [
    {
     "data": {
      "text/plain": [
       "<98304x98304 sparse array of type '<class 'numpy.float64'>'\n",
       "\twith 20412324 stored elements in Compressed Sparse Row format>"
      ]
     },
     "execution_count": 62,
     "metadata": {},
     "output_type": "execute_result"
    }
   ],
   "source": [
    "pi_b = pure_b @ sp.sparse.linalg.inv(pure_b.T @ pure_b) @ pure_b.T\n",
    "# pi_b = pure_b @ pure_b.T\n",
    "pi_b"
   ]
  },
  {
   "cell_type": "code",
   "execution_count": 63,
   "id": "27a40262-f731-4a48-8eab-b8565c88c892",
   "metadata": {},
   "outputs": [
    {
     "data": {
      "text/plain": [
       "array([1., 1., 1.])"
      ]
     },
     "execution_count": 63,
     "metadata": {},
     "output_type": "execute_result"
    }
   ],
   "source": [
    "sp.sparse.linalg.eigsh(pi_b, 3, return_eigenvectors=False)"
   ]
  },
  {
   "cell_type": "code",
   "execution_count": 64,
   "id": "033f65b2-72de-44f4-957e-19a6a8d6529f",
   "metadata": {},
   "outputs": [],
   "source": [
    "#dense\n",
    "# pi_b = pure_b @ pure_b.T\n",
    "# pi_b = pure_b @ np.linalg.inv(pure_b.T @ pure_b) @ pure_b.T\n",
    "# e,_ = sp.linalg.eigh(pi_b)\n",
    "# e"
   ]
  },
  {
   "cell_type": "code",
   "execution_count": 73,
   "id": "6c860bc4-493e-4a9e-97b8-03144fc41711",
   "metadata": {},
   "outputs": [
    {
     "name": "stderr",
     "output_type": "stream",
     "text": [
      "100%|███████████████████████████████████████████| 64/64 [00:16<00:00,  3.93it/s]\n"
     ]
    }
   ],
   "source": [
    "#Test the purification\n",
    "\n",
    "b = nmt.NmtBin.from_nside_linear(nside, 16)\n",
    "ells = b.get_effective_ells()\n",
    "c2db = ells * (ells+1) /2/np.pi\n",
    "\n",
    "nmc = 64\n",
    "\n",
    "cl = np.zeros((nmc, len(ells)))\n",
    "cl_pure = np.zeros((nmc, len(ells)))\n",
    "\n",
    "for i in tqdm(range(nmc)):\n",
    "    np.random.seed(i)\n",
    "    m = hp.synfast(Cl_BBonly, nside, new=True)\n",
    "    obs_QU = R @ m[1:].flatten()\n",
    "    pure_QU =  pi_b @ obs_QU\n",
    "    \n",
    "    f = nmt.NmtField(mask_apo, mask*obs_QU.reshape(2,npix), purify_b=False)\n",
    "    cl[i] = nmt.compute_full_master(f, f, b)[3]\n",
    "\n",
    "    f = nmt.NmtField(mask_apo, mask*obs_QU.reshape(2, npix), purify_b=True)\n",
    "    cl_pure[i] = nmt.compute_full_master(f, f, b)[3] \n",
    "\n",
    "mean = np.mean(cl, axis=0)\n",
    "std = np.std(cl, axis=0)\n",
    "\n",
    "mean_pure = np.mean(cl_pure, axis=0)\n",
    "std_pure = np.std(cl_pure, axis=0)"
   ]
  },
  {
   "cell_type": "code",
   "execution_count": 74,
   "id": "4737d7a9-0f17-47d9-a4f5-3dc22fa1f9b9",
   "metadata": {},
   "outputs": [
    {
     "data": {
      "image/png": "[encoded data removed]",
      "text/plain": [
       "<Figure size 1500x500 with 2 Axes>"
      ]
     },
     "metadata": {},
     "output_type": "display_data"
    }
   ],
   "source": [
    "fig, axes = plt.subplots(1, 2, figsize=(15, 5))\n",
    "\n",
    "axes[0].errorbar(ells, c2db*mean, c2db*std, fmt='.', label='obs')\n",
    "axes[0].errorbar(ells, c2db*mean_pure, c2db*std_pure, fmt='.', label='pure')\n",
    "axes[0].plot(c2d*Cl_BBonly[2])\n",
    "\n",
    "axes[1].plot(ells, c2db*std, marker='.', label='obs')\n",
    "axes[1].plot(ells, c2db*std_pure, marker='.', label='pure')\n",
    "\n",
    "for ax in axes.flatten():\n",
    "    ax.set_xlim([10, 2*nside])\n",
    "    ax.loglog()\n",
    "    ax.legend()\n",
    "    ax.grid()"
   ]
  }
 ],
 "metadata": {
  "kernelspec": {
   "display_name": "Python 3 (ipykernel)",
   "language": "python",
   "name": "python3"
  },
  "language_info": {
   "codemirror_mode": {
    "name": "ipython",
    "version": 3
   },
   "file_extension": ".py",
   "mimetype": "text/x-python",
   "name": "python",
   "nbconvert_exporter": "python",
   "pygments_lexer": "ipython3",
   "version": "3.11.8"
  }
 },
 "nbformat": 4,
 "nbformat_minor": 5
}
