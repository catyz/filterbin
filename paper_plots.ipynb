{
 "cells": [
  {
   "cell_type": "code",
   "execution_count": 1,
   "id": "17b287d4-22fd-421b-aee2-a9c182033f20",
   "metadata": {},
   "outputs": [],
   "source": [
    "import numpy as np \n",
    "import scipy as sp\n",
    "import healpy as hp\n",
    "import matplotlib.pyplot as plt\n",
    "import mylib\n",
    "import camb\n",
    "import pymaster as nmt\n",
    "from tqdm import tqdm"
   ]
  },
  {
   "cell_type": "code",
   "execution_count": null,
   "id": "1fd61189-6551-428a-84f2-0bd9ec820c74",
   "metadata": {},
   "outputs": [],
   "source": [
    "nside = 128\n",
    "lmax = 3*nside - 1\n",
    "npix = 12 * nside**2\n",
    "\n",
    "input_cls_lcdm = mylib.get_camb(Alens=1, r=0, lmax=lmax)\n",
    "\n",
    "input_cls_noBB = np.copy(input_cls_lcdm)\n",
    "input_cls_noBB[2] = np.zeros(lmax+1)\n",
    "\n",
    "input_cls_noEE = np.copy(input_cls_lcdm)\n",
    "input_cls_noEE[1] = np.zeros(lmax+1)\n",
    "input_cls_noEE[3] = np.zeros(lmax+1)"
   ]
  },
  {
   "cell_type": "code",
   "execution_count": null,
   "id": "264ccf32-cd3b-4eef-86ea-f561a9508538",
   "metadata": {},
   "outputs": [],
   "source": [
    "mask, weight = mylib.get_weight(nside)\n",
    "fsky = np.sum(mask)/npix\n",
    "print(fsky*100)\n",
    "\n",
    "apo_size = 10\n",
    "mask_apo = nmt.mask_apodization(weight, apo_size, 'C2')\n",
    "mask_apo /= mask_apo.max()\n",
    "\n",
    "R_unapo = sp.sparse.load_npz(f'obsmat_nside{nside}/obsmat.npz')\n",
    "\n",
    "Z = sp.sparse.diags_array(mask_apo)\n",
    "ZZ = sp.sparse.block_diag([Z, Z, Z])\n",
    "R = ZZ @ R_unapo\n",
    "\n",
    "# pi_b = sp.sparse.load_npz(f'apo{apo_size}/pi_b_5000.npz')"
   ]
  },
  {
   "cell_type": "code",
   "execution_count": null,
   "id": "af13bb3d-244b-4d46-841e-45ffe924e1b2",
   "metadata": {},
   "outputs": [],
   "source": [
    "bin_size = 16\n",
    "b = nmt.NmtBin.from_nside_linear(nside, bin_size)\n",
    "ells = b.get_effective_ells()\n",
    "c2db = ells * (ells+1) /2/np.pi\n",
    "sigmab = hp.nside2resol(nside)\n",
    "fwhm = (8*np.log(2))**0.5 * sigmab\n",
    "bl = hp.gauss_beam(fwhm, lmax)\n",
    "l = np.arange(lmax+1)\n",
    "c2d = l * (l+1) / 2/np.pi"
   ]
  },
  {
   "cell_type": "code",
   "execution_count": null,
   "id": "874bc48d-9491-4f2d-b275-bc70ad291311",
   "metadata": {},
   "outputs": [],
   "source": [
    "planck_T_noise_props = [25, 50, -1.8]\n",
    "planck_P_noise_props = [50, 20, -1.4]\n",
    "planck_T = mylib.get_Nl(planck_T_noise_props, lmax)\n",
    "planck_P = mylib.get_Nl(planck_P_noise_props, lmax)\n",
    "planck_noise_cls = np.array([planck_T, planck_P, planck_P, np.zeros(lmax+1)])\n",
    "\n",
    "lb_T_noise_props = [1.8, 5, -1] \n",
    "lb_P_noise_props = [2.16, 5, -1] \n",
    "lb_T = mylib.get_Nl(lb_T_noise_props, lmax)\n",
    "lb_P = mylib.get_Nl(lb_P_noise_props, lmax)\n",
    "lb_noise_cls = np.array([lb_T, lb_P, lb_P, np.zeros(lmax+1)])"
   ]
  },
  {
   "cell_type": "code",
   "execution_count": null,
   "id": "3a13efc2-42ea-4f23-a5a9-a1b11d790b6e",
   "metadata": {},
   "outputs": [],
   "source": [
    "EE_signal = np.zeros(lmax+1)\n",
    "EE_noise = np.zeros(lmax+1)\n",
    "EE_full = np.zeros(lmax+1)\n",
    "EE_wienered = np.zeros(lmax+1)\n",
    "\n",
    "for i in range(100):\n",
    "    signal = hp.synfast(input_cls_noBB, nside, fwhm=fwhm, new=True)\n",
    "    noise = hp.synfast(planck_noise_cls, nside, new=True)\n",
    "    # noise = hp.synfast(lb_noise_cls, nside, new=True)\n",
    "\n",
    "    noisy_E = signal + noise\n",
    "    wienered_E = mylib.wiener_filter(noisy_E, input_cls_noBB*bl**2, planck_noise_cls)\n",
    "\n",
    "    EE_signal += hp.anafast(signal)[1]\n",
    "    EE_noise += hp.anafast(noise)[1]\n",
    "    EE_full += hp.anafast(noisy_E)[1]\n",
    "    EE_wienered += hp.anafast(wienered_E)[1]\n",
    "\n",
    "EE_signal/=100\n",
    "EE_noise/=100\n",
    "EE_full/=100\n",
    "EE_wienered/=100"
   ]
  },
  {
   "cell_type": "code",
   "execution_count": null,
   "id": "08115fcf-75b7-4c0b-8580-15b8b6c10d9e",
   "metadata": {},
   "outputs": [],
   "source": [
    "plt.style.use(['ggplot', 'seaborn-v0_8-ticks'])\n",
    "\n",
    "plt.plot(c2d*EE_signal/bl**2, label='EE signal ($\\Lambda$CDM)')\n",
    "plt.plot(c2d*EE_noise/bl**2, label='Planck-like EE noise (w/ deg beam)')\n",
    "plt.plot(c2d*EE_full/bl**2, label='Total EE (signal + noise)')\n",
    "plt.plot(c2d*EE_wienered/bl**2, label='Wiener filtered total EE')\n",
    "plt.loglog()\n",
    "\n",
    "plt.legend(fontsize=10)\n",
    "plt.xlim([2,2*nside])\n",
    "plt.ylim([5e-4,5e1])\n",
    "plt.grid()\n",
    "plt.ylabel('$D_\\ell$ [$\\mu$K$^2$]', fontsize=14)\n",
    "plt.xlabel('$\\ell$', fontsize=14)\n",
    "\n",
    "plt.xticks(fontsize=12)\n",
    "plt.yticks(fontsize=12)\n",
    "\n",
    "plt.savefig('plots/PS_wiener.png', bbox_inches='tight')"
   ]
  },
  {
   "cell_type": "code",
   "execution_count": 8,
   "id": "30e9e9fe-7056-461e-907f-15352302c915",
   "metadata": {},
   "outputs": [],
   "source": [
    "# SO_noise = mask_apo * hp.read_map(f'SO_opt/out/{1000}/filterbin_filtered_map.fits', field=None)\n",
    "# S4_noise = mask_apo * hp.read_map(f'S4/out/{1000}/filterbin_filtered_map.fits', field=None)"
   ]
  },
  {
   "cell_type": "code",
   "execution_count": 9,
   "id": "dfb888a7-9ce3-4f76-822a-1ba4481d7260",
   "metadata": {},
   "outputs": [],
   "source": [
    "# SO_scale = 0.15\n",
    "# S4_scale = 0.15\n",
    "\n",
    "# fig, axes = plt.subplots(2,2)\n",
    "\n",
    "# plt.axes(axes[0][0])\n",
    "# hp.gnomview(SO_noise[1], cmap='coolwarm', min=-SO_scale, max=SO_scale, rot=(40,-42), reso=20, ysize=110, unit='$\\mu$K', title='SO-like Q noise (filtered)', notext=True, hold=True)\n",
    "\n",
    "# plt.axes(axes[0][1])\n",
    "# hp.gnomview(SO_noise[2], cmap='coolwarm', min=-SO_scale, max=SO_scale, rot=(40,-42), reso=20, ysize=110, unit='$\\mu$K', title='SO-like U noise (filtered)', notext=True, hold=True)\n",
    "\n",
    "# plt.axes(axes[1][0])\n",
    "# hp.gnomview(S4_noise[1], cmap='coolwarm', min=-S4_scale, max=S4_scale, rot=(40,-42), reso=20, ysize=110, unit='$\\mu$K', title='S4-like Q noise (filtered)', notext=True, hold=True)\n",
    "\n",
    "# plt.axes(axes[1][1])\n",
    "# hp.gnomview(S4_noise[2], cmap='coolwarm', min=-S4_scale, max=S4_scale, rot=(40,-42), reso=20, ysize=110, unit='$\\mu$K', title='S4-like U noise (filtered)', notext=True, hold=True)\n",
    "\n",
    "# plt.savefig('plots/noise.png', bbox_inches='tight')"
   ]
  },
  {
   "cell_type": "code",
   "execution_count": 18,
   "id": "253bca28-5c7a-4fb4-9d95-7c573fa32b9f",
   "metadata": {},
   "outputs": [],
   "source": [
    "# pcl = np.load(f'apo{apo_size}/pcl.npy')\n",
    "# # pcl_KS = np.load(f'apo{apo_size}/pcl_KS.npy')\n",
    "# # pcl_pure = np.load(f'apo{apo_size}/pcl_pure.npy')\n",
    "\n",
    "# mask, weight = mylib.get_weight(nside)\n",
    "# mask_apo_true = nmt.mask_apodization(weight, apo_size, 'C2')\n",
    "# mask_apo_true /= np.sqrt(np.mean(mask_apo_true**2)) \n",
    "\n",
    "# # mll_KS = mylib.get_mll(mask_apo_true, nside, b, pol=True, purify_b=True)[2::4,2::4]\n",
    "# mll = mylib.get_mll(mask_apo_true, nside, b, pol=True)[2::4,2::4]\n",
    "\n",
    "# fl = mylib.get_fl(pcl, bl, mll, input_cls_lcdm[2], niter=3)\n",
    "# # fl_KS = mylib.get_fl(pcl_KS, bl, mll_KS, input_cls_lcdm[2], niter=3)\n",
    "# # fl_pure = mylib.get_fl(pcl_pure, bl, mll, input_cls_lcdm[2], niter=3)"
   ]
  },
  {
   "cell_type": "code",
   "execution_count": 41,
   "id": "1ee800e6-ee95-4ba4-87f2-408e55a9477b",
   "metadata": {},
   "outputs": [
    {
     "name": "stderr",
     "output_type": "stream",
     "text": [
      "100%|█████████████████████████████████████████| 256/256 [02:52<00:00,  1.48it/s]\n"
     ]
    }
   ],
   "source": [
    "nmc_noise = 256\n",
    "\n",
    "nl_SO = np.zeros((nmc_noise, len(ells)))\n",
    "nl_S4 = np.zeros((nmc_noise, len(ells)))\n",
    "\n",
    "for i in tqdm(range(nmc_noise)):\n",
    "    obs_noise_unapo = hp.read_map(f'SO_opt/out/{i+1000}/filterbin_filtered_map.fits', field=None)\n",
    "    f = nmt.NmtField(mask_apo, mask*obs_noise_unapo[1:], beam=np.sqrt(fl))\n",
    "    nl_SO[i] = nmt.compute_full_master(f, f, b)[3]\n",
    "    \n",
    "    obs_noise_unapo = hp.read_map(f'S4/out/{i+1000}/filterbin_filtered_map.fits', field=None)\n",
    "    f = nmt.NmtField(mask_apo, mask*obs_noise_unapo[1:], beam=np.sqrt(fl))\n",
    "    nl_S4[i] = nmt.compute_full_master(f, f, b)[3]\n",
    "\n",
    "nl_SO_mean = np.mean(nl_SO, axis=0)\n",
    "nl_SO_std = np.std(nl_SO, axis=0)\n",
    "\n",
    "nl_S4_mean = np.mean(nl_S4, axis=0)\n",
    "nl_S4_std = np.std(nl_S4, axis=0)"
   ]
  },
  {
   "cell_type": "code",
   "execution_count": 42,
   "id": "8c527313-eda2-4bee-a6e4-91f3a5b0c7f4",
   "metadata": {},
   "outputs": [
    {
     "name": "stderr",
     "output_type": "stream",
     "text": [
      "/scratch/yuyang/filterbin/mylib.py:105: RuntimeWarning: divide by zero encountered in power\n",
      "  Nl = n * (l/knee)**alpha + n\n"
     ]
    }
   ],
   "source": [
    "sat_pol_optimal = mylib.get_Nl([np.sqrt(2)*2.1, 50, -3], lmax)\n",
    "s4 = mylib.get_Nl([1, 50, -3], lmax)"
   ]
  },
  {
   "cell_type": "code",
   "execution_count": 64,
   "id": "8c0df60f-e084-4638-90bd-5f28982724d8",
   "metadata": {},
   "outputs": [],
   "source": [
    "# plt.style.use(['ggplot', 'seaborn-v0_8-ticks'])\n",
    "\n",
    "# plt.errorbar(ells, c2db*nl_SO_mean, yerr=c2db*nl_SO_std, fmt='.', label='Recon. BB of S4-like noise sims')\n",
    "# plt.errorbar(ells, c2db*nl_S4_mean, yerr=c2db*nl_S4_std, fmt='.', label='Recon. BB of SO-like noise sims')\n",
    "\n",
    "# plt.plot(c2d*s4, label='S4-like $N_\\ell$ (analytic)')\n",
    "# plt.plot(c2d*sat_pol_optimal, label='SO-like $N_\\ell$ (analytic)')\n",
    "\n",
    "# plt.plot(c2d*input_cls_lcdm[2], label='Lensing BB')\n",
    "\n",
    "# plt.loglog()\n",
    "# plt.legend(fontsize=10)\n",
    "# plt.xlim([40, 2*nside])\n",
    "# plt.ylim([3e-5,3e-2])\n",
    "# plt.grid()\n",
    "# plt.ylabel('$D_\\ell$ [$\\mu$K$^2$]', fontsize=18)\n",
    "# plt.xlabel('$\\ell$', fontsize=18)\n",
    "# # plt.title('BB spectra for filtered $\\Lambda$CDM maps', fontsize=20, pad=15)\n",
    "\n",
    "# plt.xticks(fontsize=16)\n",
    "# plt.yticks(fontsize=16)\n",
    "\n",
    "# plt.savefig('plots/PS_noise.png', bbox_inches='tight')"
   ]
  },
  {
   "cell_type": "code",
   "execution_count": 10,
   "id": "a85edf19-fb74-48cd-aa83-f1785f99b46a",
   "metadata": {},
   "outputs": [],
   "source": [
    "# np.random.seed(0)\n",
    "# signal = hp.synfast(input_cls_noBB, nside, fwhm=fwhm, new=True)\n",
    "# planck_noise = hp.synfast(planck_noise_cls, nside, new=True)\n",
    "\n",
    "# noisy_E = signal + planck_noise\n",
    "# wienered_E = mylib.wiener_filter(noisy_E, input_cls_noBB*bl**2, planck_noise_cls)\n",
    "\n",
    "# noisy_E = mask_apo * hp.alm2map(hp.map2alm(noisy_E)[1], nside)\n",
    "# wienered_E = mask_apo * hp.alm2map(hp.map2alm(wienered_E)[1], nside)"
   ]
  },
  {
   "cell_type": "code",
   "execution_count": 11,
   "id": "6540c598-b380-423a-92b8-10ccc7cc025d",
   "metadata": {},
   "outputs": [],
   "source": [
    "# scale=3\n",
    "\n",
    "# fig, axes = plt.subplots(2,1, figsize=(10,10))\n",
    "\n",
    "# plt.axes(axes[0])\n",
    "# hp.gnomview(noisy_E, cmap='coolwarm', min=-scale, max=scale, rot=(40,-42), reso=20, ysize=110, unit='$\\mu$K', title='Total E (signal + noise)', notext=True, hold=True)\n",
    "\n",
    "# plt.axes(axes[1])\n",
    "# hp.gnomview(wienered_E, cmap='coolwarm', min=-1, max=1, rot=(40,-42), reso=20, ysize=110, unit='$\\mu$K', title='Wiener-filtered total E', notext=True, hold=True)\n",
    "# plt.savefig('plots/wiener.png', bbox_inches='tight')"
   ]
  },
  {
   "cell_type": "code",
   "execution_count": 12,
   "id": "4c96d1ab-af79-43bb-afc3-b3cdeb61cd5c",
   "metadata": {},
   "outputs": [],
   "source": [
    "# np.random.seed(0)\n",
    "# signal = hp.synfast(input_cls_lcdm, nside, fwhm=fwhm, new=True)\n",
    "# obs_m = (R @ signal.flatten()).reshape(3, npix)\n",
    "# masked_m = mask_apo * signal\n",
    "\n",
    "# scale=1\n",
    "\n",
    "# fig, axes = plt.subplots(2,2)\n",
    "\n",
    "# plt.axes(axes[0][0])\n",
    "# hp.gnomview(masked_m[1], cmap='coolwarm', min=-scale, max=scale, rot=(40,-42), reso=20, ysize=110, unit='$\\mu$K', title='Q', notext=True, hold=True)\n",
    "\n",
    "# plt.axes(axes[0][1])\n",
    "# hp.gnomview(masked_m[2], cmap='coolwarm', min=-scale, max=scale, rot=(40,-42), reso=20, ysize=110, unit='$\\mu$K', title='U', notext=True, hold=True)\n",
    "\n",
    "# plt.axes(axes[1][0])\n",
    "# hp.gnomview(obs_m[1], cmap='coolwarm', min=-scale, max=scale, rot=(40,-42), reso=20, ysize=110, unit='$\\mu$K', title='Filtered Q', notext=True, hold=True)\n",
    "\n",
    "# plt.axes(axes[1][1])\n",
    "# hp.gnomview(obs_m[2], cmap='coolwarm', min=-scale, max=scale, rot=(40,-42), reso=20, ysize=110, unit='$\\mu$K', title='Filtered U', notext=True, hold=True)\n",
    "\n",
    "# plt.savefig('plots/filtered.png', bbox_inches='tight')"
   ]
  },
  {
   "cell_type": "code",
   "execution_count": 15,
   "id": "0e72370d-5a98-41ef-b636-74380a06a1b8",
   "metadata": {},
   "outputs": [],
   "source": [
    "# plt.style.use(['ggplot', 'seaborn-v0_8-ticks'])\n",
    "\n",
    "# plt.plot(fl_KS, label='KS purification')\n",
    "# plt.plot(fl_pure, label='Matrix purification')\n",
    "\n",
    "# plt.legend(fontsize=10)\n",
    "# plt.xlim([25, 2*nside])\n",
    "# plt.ylim([0,1])\n",
    "# plt.grid()\n",
    "# plt.ylabel('Power ratio (output/input)', fontsize=14)\n",
    "# plt.xlabel('$\\ell$', fontsize=14)\n",
    "\n",
    "# plt.xticks(fontsize=12)\n",
    "# plt.yticks(fontsize=12)\n",
    "\n",
    "# plt.savefig('plots/ft.png', bbox_inches='tight')"
   ]
  },
  {
   "cell_type": "code",
   "execution_count": 24,
   "id": "b584231e-6960-469a-9777-858b8d03319e",
   "metadata": {},
   "outputs": [],
   "source": [
    "# hits = hp.read_map('obsmat_nside128/out/0/filterbin_hits.fits')"
   ]
  },
  {
   "cell_type": "code",
   "execution_count": 25,
   "id": "2d14c868-ff20-4d30-8611-ed76063dfb27",
   "metadata": {},
   "outputs": [],
   "source": [
    "# hp.gnomview(hits, cmap='coolwarm', rot=(40,-42), reso=25, ysize=110, unit='hits', title=None, notext=True)\n",
    "# plt.savefig('plots/hits.png', bbox_inches='tight')"
   ]
  },
  {
   "cell_type": "code",
   "execution_count": 14,
   "id": "757fdd08-cf60-4964-b330-042618bc98a1",
   "metadata": {},
   "outputs": [],
   "source": [
    "# ten = mylib.get_Nl([10,0,0], 0, lmax)\n",
    "# twopfive = mylib.get_Nl([2.5,0,0], 0, lmax)\n",
    "# one = mylib.get_Nl([1,0,0], 0, lmax)"
   ]
  },
  {
   "cell_type": "code",
   "execution_count": 15,
   "id": "328d8caa-63fa-4758-8438-3b8c675730fb",
   "metadata": {},
   "outputs": [
    {
     "name": "stderr",
     "output_type": "stream",
     "text": [
      "100%|█████████████████████████████████████████| 128/128 [06:20<00:00,  2.98s/it]\n"
     ]
    }
   ],
   "source": [
    "# nmc = 128\n",
    "\n",
    "# cl_tteebb = np.empty((nmc, len(ells)))\n",
    "# cl_ttee = np.empty((nmc, len(ells)))\n",
    "\n",
    "# for i in tqdm(range(nmc)):\n",
    "#     np.random.seed(i)\n",
    "#     signal = hp.synfast(input_cls_noBB, nside, fwhm=fwhm, new=True)\n",
    "#     obs_m_unapo = (R_unapo @ signal.flatten()).reshape(3, npix)\n",
    "#     f = nmt.NmtField(mask_apo, mask*obs_m_unapo[1:], beam=bl*np.sqrt(fl_KS), purify_b=True)\n",
    "#     cl_ttee[i] = nmt.compute_full_master(f, f, b)[3]\n",
    "\n",
    "#     np.random.seed(i)\n",
    "#     signal = hp.synfast(input_cls_lcdm, nside, fwhm=fwhm, new=True)\n",
    "#     obs_m_unapo = (R_unapo @ signal.flatten()).reshape(3, npix)\n",
    "#     f = nmt.NmtField(mask_apo, mask*obs_m_unapo[1:], beam=bl*np.sqrt(fl_KS), purify_b=True)\n",
    "#     cl_tteebb[i] = nmt.compute_full_master(f, f, b)[3]\n",
    "    \n",
    "# ttee_mean = c2db*np.mean(cl_ttee, axis=0)\n",
    "# ttee_std = c2db*np.std(cl_ttee, axis=0)\n",
    "\n",
    "# tteebb_mean = c2db*np.mean(cl_tteebb, axis=0)\n",
    "# tteebb_std =c2db*np.std(cl_tteebb, axis=0)"
   ]
  },
  {
   "cell_type": "code",
   "execution_count": 16,
   "id": "7e482b80-8660-4228-899d-4539b507bf36",
   "metadata": {},
   "outputs": [],
   "source": [
    "# # plt.figure(figsize=(7, 4))\n",
    "# plt.style.use(['ggplot', 'seaborn-v0_8-ticks'])\n",
    "\n",
    "# plt.errorbar(ells, ttee_mean, yerr=ttee_std, fmt='o', alpha=0.75, label='$\\Lambda$CDM (TTEE) input')\n",
    "# plt.errorbar(ells, tteebb_mean, yerr=tteebb_std, fmt='o', alpha=0.75, label='$\\Lambda$CDM (TTEEBB) input')\n",
    "# plt.plot(l, c2d*input_cls_lcdm[2], label='Lensing BB')\n",
    "# # plt.plot(c2d*ttee_mean, label=r'TTEEEE$\\rightarrow$BB (leakage)')\n",
    "# # plt.plot(c2d*ttbb_mean, label=r'TTBB$\\rightarrow$BB')\n",
    "# # plt.plot(c2d*tteebb_mean, label=r'TTEEBB$\\rightarrow$BB')\n",
    "\n",
    "# plt.loglog()\n",
    "# plt.legend(fontsize=14)\n",
    "# plt.xlim([20,2*nside])\n",
    "# plt.ylim([1e-4,1e-1])\n",
    "# plt.grid()\n",
    "# plt.ylabel('$D_\\ell$ [$\\mu$K$^2$]', fontsize=18)\n",
    "# plt.xlabel('$\\ell$', fontsize=18)\n",
    "# # plt.title('BB spectra for filtered $\\Lambda$CDM maps', fontsize=20, pad=15)\n",
    "\n",
    "# plt.xticks(fontsize=16)\n",
    "# plt.yticks(fontsize=16)\n",
    "\n",
    "# plt.savefig('plots/leakage.png', bbox_inches='tight')"
   ]
  },
  {
   "cell_type": "code",
   "execution_count": 26,
   "id": "2454ef52-1d99-47ec-a611-25d6e2c8595e",
   "metadata": {},
   "outputs": [],
   "source": [
    "# # plt.figure(figsize=(7, 4))\n",
    "# plt.style.use(['ggplot', 'seaborn-v0_8-ticks'])\n",
    "\n",
    "# plt.errorbar(ells, ttee_mean, yerr=ttee_std, fmt='o', alpha=1, label='Filtering leakage ($\\Lambda$CDM TTEE)')\n",
    "# # plt.errorbar(ells, tteebb_mean, yerr=tteebb_std, fmt='o', alpha=0.75, label='$\\Lambda$CDM (TTEEBB) input')\n",
    "# plt.plot(l, c2d*input_cls_lcdm[2], label='Lensing BB')\n",
    "# plt.plot(l, c2d*ten, ls='dashed',label='10 $\\mu$K-arcmin')\n",
    "# plt.plot(l, c2d*twopfive, ls='dashed',label='2.5 $\\mu$K-arcmin')\n",
    "# plt.plot(l, c2d*one, ls='dashed',label='1 $\\mu$K-arcmin')\n",
    "\n",
    "# plt.loglog()\n",
    "# plt.legend(fontsize=10)\n",
    "# plt.xlim([20,2*nside])\n",
    "# plt.ylim([5e-5,1e-1])\n",
    "# plt.grid()\n",
    "# plt.ylabel('$D_\\ell$ [$\\mu$K$^2$]', fontsize=14)\n",
    "# plt.xlabel('$\\ell$', fontsize=14)\n",
    "# # plt.title('BB: Filtering leakage vs noise', fontsize=16, pad=15)\n",
    "\n",
    "# plt.xticks(fontsize=12)\n",
    "# plt.yticks(fontsize=12)\n",
    "\n",
    "# plt.savefig('plots/leakage_noise.png', bbox_inches='tight')"
   ]
  },
  {
   "cell_type": "code",
   "execution_count": 27,
   "id": "1f307c28-e9ec-4527-93d1-6b2c34b1c0ae",
   "metadata": {},
   "outputs": [],
   "source": [
    "# nmc = 128\n",
    "\n",
    "# cl = np.empty((nmc, len(ells)))\n",
    "# cl_KS = np.empty((nmc, len(ells)))\n",
    "\n",
    "# for i in tqdm(range(nmc)):\n",
    "#     np.random.seed(i)\n",
    "#     masked_signal = mask*hp.synfast(input_cls_lcdm, nside, fwhm=fwhm, new=True)\n",
    "#     f = nmt.NmtField(mask_apo, masked_signal[1:], beam=bl, purify_b=True)\n",
    "#     cl_KS[i] = nmt.compute_full_master(f, f, b)[3]\n",
    "\n",
    "#     np.random.seed(i)\n",
    "#     masked_signal = mask*hp.synfast(input_cls_lcdm, nside, fwhm=fwhm, new=True)\n",
    "#     f = nmt.NmtField(mask_apo, masked_signal[1:], beam=bl)\n",
    "#     cl[i] = nmt.compute_full_master(f, f, b)[3]\n",
    "    \n",
    "# cl_mean = c2db*np.mean(cl, axis=0)\n",
    "# cl_std = c2db*np.std(cl, axis=0)\n",
    "\n",
    "# cl_KS_mean = c2db*np.mean(cl_KS, axis=0)\n",
    "# cl_KS_std =c2db*np.std(cl_KS, axis=0)"
   ]
  },
  {
   "cell_type": "code",
   "execution_count": 28,
   "id": "f0a41076-a059-4a7a-a6db-3060f15d953e",
   "metadata": {},
   "outputs": [],
   "source": [
    "# plt.style.use(['ggplot', 'seaborn-v0_8-ticks'])\n",
    "\n",
    "# plt.errorbar(ells, cl_mean, yerr=cl_std, fmt='o', alpha=0.75, label='Pseudo $C_\\ell$')\n",
    "# plt.errorbar(ells, cl_KS_mean, yerr=cl_KS_std, fmt='o', alpha=0.75, label='KS purified')\n",
    "# plt.plot(l, c2d*input_cls_lcdm[2], label='Lensing BB')\n",
    "\n",
    "# plt.plot(ells, cl_std, linestyle='dashed', label='Pseudo $C_\\ell$ std')\n",
    "# plt.plot(ells, cl_KS_std, linestyle='dashed', label='KS purified std')\n",
    "\n",
    "# plt.loglog()\n",
    "# plt.legend(fontsize=10)\n",
    "# plt.xlim([20,2*nside])\n",
    "# plt.ylim([5e-5,5e-2])\n",
    "# plt.grid()\n",
    "# plt.ylabel('$D_\\ell$ [$\\mu$K$^2$]', fontsize=14)\n",
    "# plt.xlabel('$\\ell$', fontsize=14)\n",
    "# # plt.title('BB spectra for masked $\\Lambda$CDM maps (fsky=4.5%)', fontsize=16, pad=15)\n",
    "\n",
    "# plt.xticks(fontsize=12)\n",
    "# plt.yticks(fontsize=12)\n",
    "\n",
    "# plt.savefig('plots/KS.png', bbox_inches='tight')"
   ]
  },
  {
   "cell_type": "code",
   "execution_count": null,
   "id": "0095f347-3545-41c7-ac44-ef553c6834c7",
   "metadata": {},
   "outputs": [],
   "source": []
  },
  {
   "cell_type": "code",
   "execution_count": null,
   "id": "9e9b80dd-409d-43b6-9494-161ff3816794",
   "metadata": {},
   "outputs": [],
   "source": []
  }
 ],
 "metadata": {
  "kernelspec": {
   "display_name": "Python 3 (ipykernel)",
   "language": "python",
   "name": "python3"
  },
  "language_info": {
   "codemirror_mode": {
    "name": "ipython",
    "version": 3
   },
   "file_extension": ".py",
   "mimetype": "text/x-python",
   "name": "python",
   "nbconvert_exporter": "python",
   "pygments_lexer": "ipython3",
   "version": "3.11.8"
  }
 },
 "nbformat": 4,
 "nbformat_minor": 5
}
