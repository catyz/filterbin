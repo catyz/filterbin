{
 "cells": [
  {
   "cell_type": "code",
   "execution_count": 246,
   "id": "7e5e000b-1b06-40c2-a7b4-c450d7451e3b",
   "metadata": {},
   "outputs": [],
   "source": [
    "import numpy as np \n",
    "import healpy as hp\n",
    "import matplotlib.pyplot as plt\n",
    "from glob import glob"
   ]
  },
  {
   "cell_type": "code",
   "execution_count": 249,
   "id": "701bfd51-ba1d-4a90-9400-a9dbf83ae3b6",
   "metadata": {},
   "outputs": [],
   "source": [
    "mapdir = 'noise_only_test/out/schedule000'\n",
    "cov = hp.read_map(f'{mapdir}/filterbin_cov.fits', field=None)\n",
    "invcov = hp.read_map(f'{mapdir}/filterbin_invcov.fits', field=None)\n",
    "nw = hp.read_map(f'{mapdir}/filterbin_noiseweighted_filtered_map.fits', field=None)\n",
    "m = hp.read_map(f'{mapdir}/filterbin_filtered_map.fits', field=None)\n",
    "hits = hp.read_map(f'{mapdir}/filterbin_hits.fits', field=None)\n",
    "rcond = hp.read_map(f'{mapdir}/filterbin_rcond.fits', field=None)"
   ]
  },
  {
   "cell_type": "code",
   "execution_count": 248,
   "id": "1efd7510-0f1e-439e-ae04-ed131ce0c9bc",
   "metadata": {},
   "outputs": [],
   "source": [
    "# mapdir = 'scan_map_test/out/schedule001'\n",
    "# cov = np.zeros((17, 12*256**2))\n",
    "# invcov = np.zeros((17, 12*256**2))\n",
    "# nw = np.zeros((17, 12*256**2))\n",
    "# hits = np.zeros((17, 12*256**2))\n",
    "# rcond = np.zeros((17, 12*256**2))\n",
    "# for i, schedule in enumerate(sorted(glob(mapdir))):\n",
    "#     # print(schedule)\n",
    "#     cov[i] = hp.read_map(f'{schedule}/filterbin_cov.fits')\n",
    "#     invcov[i] = hp.read_map(f'{schedule}/filterbin_invcov.fits')\n",
    "#     nw[i] = hp.read_map(f'{schedule}/filterbin_noiseweighted_filtered_map.fits')\n",
    "#     m[i] = hp.read_map(f'{schedule}/filterbin_filtered_map.fits')\n",
    "#     hits[i] = hp.read_map(f'{schedule}/filterbin_hits.fits')\n",
    "#     rcond[i] = hp.read_map(f'{schedule}/filterbin_rcond.fits')"
   ]
  },
  {
   "cell_type": "code",
   "execution_count": null,
   "id": "fecc7f3c-531a-422d-8a79-c7e3abcc00dc",
   "metadata": {},
   "outputs": [],
   "source": []
  }
 ],
 "metadata": {
  "kernelspec": {
   "display_name": "Python 3 (ipykernel)",
   "language": "python",
   "name": "python3"
  },
  "language_info": {
   "codemirror_mode": {
    "name": "ipython",
    "version": 3
   },
   "file_extension": ".py",
   "mimetype": "text/x-python",
   "name": "python",
   "nbconvert_exporter": "python",
   "pygments_lexer": "ipython3",
   "version": "3.10.12"
  }
 },
 "nbformat": 4,
 "nbformat_minor": 5
}
