{
 "cells": [
  {
   "cell_type": "code",
   "execution_count": 1,
   "id": "7e5e000b-1b06-40c2-a7b4-c450d7451e3b",
   "metadata": {},
   "outputs": [],
   "source": [
    "import numpy as np \n",
    "import healpy as hp\n",
    "import matplotlib.pyplot as plt\n",
    "import mylib\n",
    "from tqdm import tqdm\n",
    "from importlib import reload\n",
    "import pymaster as nmt\n",
    "import mylib\n",
    "import scipy as sp"
   ]
  },
  {
   "cell_type": "code",
   "execution_count": 2,
   "id": "45e9cb23-dd52-4471-a009-9434062e8ae3",
   "metadata": {},
   "outputs": [
    {
     "name": "stderr",
     "output_type": "stream",
     "text": [
      "/tmp/ipykernel_7628/11362654.py:10: RuntimeWarning: invalid value encountered in divide\n",
      "  input_cls /= c2d\n"
     ]
    }
   ],
   "source": [
    "nside = 64\n",
    "lmax = 3*nside - 1\n",
    "npix = 12 * nside**2\n",
    "bin_size = 20\n",
    "\n",
    "ell_input, TT, TE, EE, BB, PP = np.loadtxt('cl.txt', unpack=True)\n",
    "c2d = ell_input*(ell_input+1)/2/np.pi\n",
    "# input_cls = np.array([TT, EE, np.zeros_like(EE), TE]) #no BB\n",
    "input_cls = np.array([TT, EE, BB, TE]) \n",
    "input_cls /= c2d \n",
    "for c in input_cls: c[0] = 0 \n",
    "input_cls = input_cls[:,:lmax+1]\n",
    "c2d = c2d[:lmax+1]\n",
    "\n",
    "input_cls_noBB = np.copy(input_cls)\n",
    "input_cls_noBB[2] = np.zeros(lmax+1)\n",
    "\n",
    "input_cls_noEE = np.copy(input_cls)\n",
    "input_cls_noEE[1] = np.zeros(lmax+1)\n",
    "input_cls_noEE[3] = np.zeros(lmax+1)"
   ]
  },
  {
   "cell_type": "code",
   "execution_count": 3,
   "id": "1efd7510-0f1e-439e-ae04-ed131ce0c9bc",
   "metadata": {},
   "outputs": [
    {
     "name": "stderr",
     "output_type": "stream",
     "text": [
      " 56%|██████████████████████████████████████▋                              | 56/100 [00:27<00:21,  2.06it/s]\n"
     ]
    },
    {
     "ename": "FileNotFoundError",
     "evalue": "[Errno 2] No such file or directory: 'SO_64/lensingBB/out/56/filterbin_filtered_map.fits'",
     "output_type": "error",
     "traceback": [
      "\u001b[0;31m---------------------------------------------------------------------------\u001b[0m",
      "\u001b[0;31mFileNotFoundError\u001b[0m                         Traceback (most recent call last)",
      "Cell \u001b[0;32mIn[3], line 16\u001b[0m\n\u001b[1;32m     14\u001b[0m noise[mc] \u001b[38;5;241m=\u001b[39m hp\u001b[38;5;241m.\u001b[39mread_map(\u001b[38;5;124mf\u001b[39m\u001b[38;5;124m'\u001b[39m\u001b[38;5;132;01m{\u001b[39;00mprefix\u001b[38;5;132;01m}\u001b[39;00m\u001b[38;5;124m/noise/out/\u001b[39m\u001b[38;5;132;01m{\u001b[39;00mmc\u001b[38;5;241m+\u001b[39m\u001b[38;5;241m1000\u001b[39m\u001b[38;5;132;01m}\u001b[39;00m\u001b[38;5;124m/filterbin_filtered_map.fits\u001b[39m\u001b[38;5;124m'\u001b[39m, field\u001b[38;5;241m=\u001b[39m\u001b[38;5;28;01mNone\u001b[39;00m)\n\u001b[1;32m     15\u001b[0m transfer[mc] \u001b[38;5;241m=\u001b[39m hp\u001b[38;5;241m.\u001b[39mread_map(\u001b[38;5;124mf\u001b[39m\u001b[38;5;124m'\u001b[39m\u001b[38;5;132;01m{\u001b[39;00mprefix\u001b[38;5;132;01m}\u001b[39;00m\u001b[38;5;124m/transfer/out/\u001b[39m\u001b[38;5;132;01m{\u001b[39;00mmc\u001b[38;5;241m+\u001b[39m\u001b[38;5;241m1000\u001b[39m\u001b[38;5;132;01m}\u001b[39;00m\u001b[38;5;124m/filterbin_filtered_map.fits\u001b[39m\u001b[38;5;124m'\u001b[39m, field\u001b[38;5;241m=\u001b[39m\u001b[38;5;28;01mNone\u001b[39;00m)\n\u001b[0;32m---> 16\u001b[0m full[mc] \u001b[38;5;241m=\u001b[39m \u001b[43mhp\u001b[49m\u001b[38;5;241;43m.\u001b[39;49m\u001b[43mread_map\u001b[49m\u001b[43m(\u001b[49m\u001b[38;5;124;43mf\u001b[39;49m\u001b[38;5;124;43m'\u001b[39;49m\u001b[38;5;132;43;01m{\u001b[39;49;00m\u001b[43mprefix\u001b[49m\u001b[38;5;132;43;01m}\u001b[39;49;00m\u001b[38;5;124;43m/lensingBB/out/\u001b[39;49m\u001b[38;5;132;43;01m{\u001b[39;49;00m\u001b[43mmc\u001b[49m\u001b[38;5;132;43;01m}\u001b[39;49;00m\u001b[38;5;124;43m/filterbin_filtered_map.fits\u001b[39;49m\u001b[38;5;124;43m'\u001b[39;49m\u001b[43m,\u001b[49m\u001b[43m \u001b[49m\u001b[43mfield\u001b[49m\u001b[38;5;241;43m=\u001b[39;49m\u001b[38;5;28;43;01mNone\u001b[39;49;00m\u001b[43m)\u001b[49m\n\u001b[1;32m     17\u001b[0m \u001b[38;5;66;03m# full[mc] = hp.read_map(f'{prefix}/leakage/out/{mc}/filterbin_filtered_map.fits', field=None)\u001b[39;00m\n\u001b[1;32m     18\u001b[0m planck[mc] \u001b[38;5;241m=\u001b[39m hp\u001b[38;5;241m.\u001b[39mread_map(\u001b[38;5;124mf\u001b[39m\u001b[38;5;124m'\u001b[39m\u001b[38;5;124minput_maps/nside\u001b[39m\u001b[38;5;132;01m{\u001b[39;00mnside\u001b[38;5;132;01m}\u001b[39;00m\u001b[38;5;124m/planck_like_E_maps/map_\u001b[39m\u001b[38;5;132;01m{\u001b[39;00mmc\u001b[38;5;132;01m}\u001b[39;00m\u001b[38;5;124m.fits\u001b[39m\u001b[38;5;124m'\u001b[39m, field\u001b[38;5;241m=\u001b[39m\u001b[38;5;28;01mNone\u001b[39;00m) \u001b[38;5;241m-\u001b[39m hp\u001b[38;5;241m.\u001b[39mread_map(\u001b[38;5;124mf\u001b[39m\u001b[38;5;124m'\u001b[39m\u001b[38;5;132;01m{\u001b[39;00mprefix\u001b[38;5;132;01m}\u001b[39;00m\u001b[38;5;124m/planck/out/\u001b[39m\u001b[38;5;132;01m{\u001b[39;00mmc\u001b[38;5;132;01m}\u001b[39;00m\u001b[38;5;124m/filterbin_filtered_map.fits\u001b[39m\u001b[38;5;124m'\u001b[39m, field\u001b[38;5;241m=\u001b[39m\u001b[38;5;28;01mNone\u001b[39;00m)\n",
      "File \u001b[0;32m/scratch/yuyang/conda/envs/toast3/lib/python3.11/site-packages/astropy/utils/decorators.py:604\u001b[0m, in \u001b[0;36mdeprecated_renamed_argument.<locals>.decorator.<locals>.wrapper\u001b[0;34m(*args, **kwargs)\u001b[0m\n\u001b[1;32m    601\u001b[0m             msg \u001b[38;5;241m+\u001b[39m\u001b[38;5;241m=\u001b[39m \u001b[38;5;124mf\u001b[39m\u001b[38;5;124m\"\u001b[39m\u001b[38;5;130;01m\\n\u001b[39;00m\u001b[38;5;124m        Use \u001b[39m\u001b[38;5;132;01m{\u001b[39;00malternative\u001b[38;5;132;01m}\u001b[39;00m\u001b[38;5;124m instead.\u001b[39m\u001b[38;5;124m\"\u001b[39m\n\u001b[1;32m    602\u001b[0m         warnings\u001b[38;5;241m.\u001b[39mwarn(msg, warning_type, stacklevel\u001b[38;5;241m=\u001b[39m\u001b[38;5;241m2\u001b[39m)\n\u001b[0;32m--> 604\u001b[0m \u001b[38;5;28;01mreturn\u001b[39;00m \u001b[43mfunction\u001b[49m\u001b[43m(\u001b[49m\u001b[38;5;241;43m*\u001b[39;49m\u001b[43margs\u001b[49m\u001b[43m,\u001b[49m\u001b[43m \u001b[49m\u001b[38;5;241;43m*\u001b[39;49m\u001b[38;5;241;43m*\u001b[39;49m\u001b[43mkwargs\u001b[49m\u001b[43m)\u001b[49m\n",
      "File \u001b[0;32m/scratch/yuyang/conda/envs/toast3/lib/python3.11/site-packages/healpy/fitsfunc.py:370\u001b[0m, in \u001b[0;36mread_map\u001b[0;34m(filename, field, dtype, nest, partial, hdu, h, verbose, memmap)\u001b[0m\n\u001b[1;32m    368\u001b[0m opened_file \u001b[38;5;241m=\u001b[39m \u001b[38;5;28;01mFalse\u001b[39;00m\n\u001b[1;32m    369\u001b[0m \u001b[38;5;28;01mif\u001b[39;00m \u001b[38;5;28misinstance\u001b[39m(filename, allowed_paths):\n\u001b[0;32m--> 370\u001b[0m     filename \u001b[38;5;241m=\u001b[39m \u001b[43mpf\u001b[49m\u001b[38;5;241;43m.\u001b[39;49m\u001b[43mopen\u001b[49m\u001b[43m(\u001b[49m\u001b[43mfilename\u001b[49m\u001b[43m,\u001b[49m\u001b[43m \u001b[49m\u001b[43mmemmap\u001b[49m\u001b[38;5;241;43m=\u001b[39;49m\u001b[43mmemmap\u001b[49m\u001b[43m)\u001b[49m\n\u001b[1;32m    371\u001b[0m     opened_file \u001b[38;5;241m=\u001b[39m \u001b[38;5;28;01mTrue\u001b[39;00m\n\u001b[1;32m    373\u001b[0m fits_hdu \u001b[38;5;241m=\u001b[39m _get_hdu(filename, hdu\u001b[38;5;241m=\u001b[39mhdu, memmap\u001b[38;5;241m=\u001b[39mmemmap)\n",
      "File \u001b[0;32m/scratch/yuyang/conda/envs/toast3/lib/python3.11/site-packages/astropy/io/fits/hdu/hdulist.py:222\u001b[0m, in \u001b[0;36mfitsopen\u001b[0;34m(name, mode, memmap, save_backup, cache, lazy_load_hdus, ignore_missing_simple, use_fsspec, fsspec_kwargs, decompress_in_memory, **kwargs)\u001b[0m\n\u001b[1;32m    219\u001b[0m \u001b[38;5;28;01mif\u001b[39;00m \u001b[38;5;129;01mnot\u001b[39;00m name:\n\u001b[1;32m    220\u001b[0m     \u001b[38;5;28;01mraise\u001b[39;00m \u001b[38;5;167;01mValueError\u001b[39;00m(\u001b[38;5;124mf\u001b[39m\u001b[38;5;124m\"\u001b[39m\u001b[38;5;124mEmpty filename: \u001b[39m\u001b[38;5;132;01m{\u001b[39;00mname\u001b[38;5;132;01m!r}\u001b[39;00m\u001b[38;5;124m\"\u001b[39m)\n\u001b[0;32m--> 222\u001b[0m \u001b[38;5;28;01mreturn\u001b[39;00m \u001b[43mHDUList\u001b[49m\u001b[38;5;241;43m.\u001b[39;49m\u001b[43mfromfile\u001b[49m\u001b[43m(\u001b[49m\n\u001b[1;32m    223\u001b[0m \u001b[43m    \u001b[49m\u001b[43mname\u001b[49m\u001b[43m,\u001b[49m\n\u001b[1;32m    224\u001b[0m \u001b[43m    \u001b[49m\u001b[43mmode\u001b[49m\u001b[43m,\u001b[49m\n\u001b[1;32m    225\u001b[0m \u001b[43m    \u001b[49m\u001b[43mmemmap\u001b[49m\u001b[43m,\u001b[49m\n\u001b[1;32m    226\u001b[0m \u001b[43m    \u001b[49m\u001b[43msave_backup\u001b[49m\u001b[43m,\u001b[49m\n\u001b[1;32m    227\u001b[0m \u001b[43m    \u001b[49m\u001b[43mcache\u001b[49m\u001b[43m,\u001b[49m\n\u001b[1;32m    228\u001b[0m \u001b[43m    \u001b[49m\u001b[43mlazy_load_hdus\u001b[49m\u001b[43m,\u001b[49m\n\u001b[1;32m    229\u001b[0m \u001b[43m    \u001b[49m\u001b[43mignore_missing_simple\u001b[49m\u001b[43m,\u001b[49m\n\u001b[1;32m    230\u001b[0m \u001b[43m    \u001b[49m\u001b[43muse_fsspec\u001b[49m\u001b[38;5;241;43m=\u001b[39;49m\u001b[43muse_fsspec\u001b[49m\u001b[43m,\u001b[49m\n\u001b[1;32m    231\u001b[0m \u001b[43m    \u001b[49m\u001b[43mfsspec_kwargs\u001b[49m\u001b[38;5;241;43m=\u001b[39;49m\u001b[43mfsspec_kwargs\u001b[49m\u001b[43m,\u001b[49m\n\u001b[1;32m    232\u001b[0m \u001b[43m    \u001b[49m\u001b[43mdecompress_in_memory\u001b[49m\u001b[38;5;241;43m=\u001b[39;49m\u001b[43mdecompress_in_memory\u001b[49m\u001b[43m,\u001b[49m\n\u001b[1;32m    233\u001b[0m \u001b[43m    \u001b[49m\u001b[38;5;241;43m*\u001b[39;49m\u001b[38;5;241;43m*\u001b[39;49m\u001b[43mkwargs\u001b[49m\u001b[43m,\u001b[49m\n\u001b[1;32m    234\u001b[0m \u001b[43m\u001b[49m\u001b[43m)\u001b[49m\n",
      "File \u001b[0;32m/scratch/yuyang/conda/envs/toast3/lib/python3.11/site-packages/astropy/io/fits/hdu/hdulist.py:486\u001b[0m, in \u001b[0;36mHDUList.fromfile\u001b[0;34m(cls, fileobj, mode, memmap, save_backup, cache, lazy_load_hdus, ignore_missing_simple, **kwargs)\u001b[0m\n\u001b[1;32m    467\u001b[0m \u001b[38;5;129m@classmethod\u001b[39m\n\u001b[1;32m    468\u001b[0m \u001b[38;5;28;01mdef\u001b[39;00m \u001b[38;5;21mfromfile\u001b[39m(\n\u001b[1;32m    469\u001b[0m     \u001b[38;5;28mcls\u001b[39m,\n\u001b[0;32m   (...)\u001b[0m\n\u001b[1;32m    477\u001b[0m     \u001b[38;5;241m*\u001b[39m\u001b[38;5;241m*\u001b[39mkwargs,\n\u001b[1;32m    478\u001b[0m ):\n\u001b[1;32m    479\u001b[0m \u001b[38;5;250m    \u001b[39m\u001b[38;5;124;03m\"\"\"\u001b[39;00m\n\u001b[1;32m    480\u001b[0m \u001b[38;5;124;03m    Creates an `HDUList` instance from a file-like object.\u001b[39;00m\n\u001b[1;32m    481\u001b[0m \n\u001b[0;32m   (...)\u001b[0m\n\u001b[1;32m    484\u001b[0m \u001b[38;5;124;03m    documentation for details of the parameters accepted by this method).\u001b[39;00m\n\u001b[1;32m    485\u001b[0m \u001b[38;5;124;03m    \"\"\"\u001b[39;00m\n\u001b[0;32m--> 486\u001b[0m     \u001b[38;5;28;01mreturn\u001b[39;00m \u001b[38;5;28;43mcls\u001b[39;49m\u001b[38;5;241;43m.\u001b[39;49m\u001b[43m_readfrom\u001b[49m\u001b[43m(\u001b[49m\n\u001b[1;32m    487\u001b[0m \u001b[43m        \u001b[49m\u001b[43mfileobj\u001b[49m\u001b[38;5;241;43m=\u001b[39;49m\u001b[43mfileobj\u001b[49m\u001b[43m,\u001b[49m\n\u001b[1;32m    488\u001b[0m \u001b[43m        \u001b[49m\u001b[43mmode\u001b[49m\u001b[38;5;241;43m=\u001b[39;49m\u001b[43mmode\u001b[49m\u001b[43m,\u001b[49m\n\u001b[1;32m    489\u001b[0m \u001b[43m        \u001b[49m\u001b[43mmemmap\u001b[49m\u001b[38;5;241;43m=\u001b[39;49m\u001b[43mmemmap\u001b[49m\u001b[43m,\u001b[49m\n\u001b[1;32m    490\u001b[0m \u001b[43m        \u001b[49m\u001b[43msave_backup\u001b[49m\u001b[38;5;241;43m=\u001b[39;49m\u001b[43msave_backup\u001b[49m\u001b[43m,\u001b[49m\n\u001b[1;32m    491\u001b[0m \u001b[43m        \u001b[49m\u001b[43mcache\u001b[49m\u001b[38;5;241;43m=\u001b[39;49m\u001b[43mcache\u001b[49m\u001b[43m,\u001b[49m\n\u001b[1;32m    492\u001b[0m \u001b[43m        \u001b[49m\u001b[43mignore_missing_simple\u001b[49m\u001b[38;5;241;43m=\u001b[39;49m\u001b[43mignore_missing_simple\u001b[49m\u001b[43m,\u001b[49m\n\u001b[1;32m    493\u001b[0m \u001b[43m        \u001b[49m\u001b[43mlazy_load_hdus\u001b[49m\u001b[38;5;241;43m=\u001b[39;49m\u001b[43mlazy_load_hdus\u001b[49m\u001b[43m,\u001b[49m\n\u001b[1;32m    494\u001b[0m \u001b[43m        \u001b[49m\u001b[38;5;241;43m*\u001b[39;49m\u001b[38;5;241;43m*\u001b[39;49m\u001b[43mkwargs\u001b[49m\u001b[43m,\u001b[49m\n\u001b[1;32m    495\u001b[0m \u001b[43m    \u001b[49m\u001b[43m)\u001b[49m\n",
      "File \u001b[0;32m/scratch/yuyang/conda/envs/toast3/lib/python3.11/site-packages/astropy/io/fits/hdu/hdulist.py:1157\u001b[0m, in \u001b[0;36mHDUList._readfrom\u001b[0;34m(cls, fileobj, data, mode, memmap, cache, lazy_load_hdus, ignore_missing_simple, use_fsspec, fsspec_kwargs, decompress_in_memory, **kwargs)\u001b[0m\n\u001b[1;32m   1154\u001b[0m \u001b[38;5;28;01mif\u001b[39;00m fileobj \u001b[38;5;129;01mis\u001b[39;00m \u001b[38;5;129;01mnot\u001b[39;00m \u001b[38;5;28;01mNone\u001b[39;00m:\n\u001b[1;32m   1155\u001b[0m     \u001b[38;5;28;01mif\u001b[39;00m \u001b[38;5;129;01mnot\u001b[39;00m \u001b[38;5;28misinstance\u001b[39m(fileobj, _File):\n\u001b[1;32m   1156\u001b[0m         \u001b[38;5;66;03m# instantiate a FITS file object (ffo)\u001b[39;00m\n\u001b[0;32m-> 1157\u001b[0m         fileobj \u001b[38;5;241m=\u001b[39m \u001b[43m_File\u001b[49m\u001b[43m(\u001b[49m\n\u001b[1;32m   1158\u001b[0m \u001b[43m            \u001b[49m\u001b[43mfileobj\u001b[49m\u001b[43m,\u001b[49m\n\u001b[1;32m   1159\u001b[0m \u001b[43m            \u001b[49m\u001b[43mmode\u001b[49m\u001b[38;5;241;43m=\u001b[39;49m\u001b[43mmode\u001b[49m\u001b[43m,\u001b[49m\n\u001b[1;32m   1160\u001b[0m \u001b[43m            \u001b[49m\u001b[43mmemmap\u001b[49m\u001b[38;5;241;43m=\u001b[39;49m\u001b[43mmemmap\u001b[49m\u001b[43m,\u001b[49m\n\u001b[1;32m   1161\u001b[0m \u001b[43m            \u001b[49m\u001b[43mcache\u001b[49m\u001b[38;5;241;43m=\u001b[39;49m\u001b[43mcache\u001b[49m\u001b[43m,\u001b[49m\n\u001b[1;32m   1162\u001b[0m \u001b[43m            \u001b[49m\u001b[43muse_fsspec\u001b[49m\u001b[38;5;241;43m=\u001b[39;49m\u001b[43muse_fsspec\u001b[49m\u001b[43m,\u001b[49m\n\u001b[1;32m   1163\u001b[0m \u001b[43m            \u001b[49m\u001b[43mfsspec_kwargs\u001b[49m\u001b[38;5;241;43m=\u001b[39;49m\u001b[43mfsspec_kwargs\u001b[49m\u001b[43m,\u001b[49m\n\u001b[1;32m   1164\u001b[0m \u001b[43m            \u001b[49m\u001b[43mdecompress_in_memory\u001b[49m\u001b[38;5;241;43m=\u001b[39;49m\u001b[43mdecompress_in_memory\u001b[49m\u001b[43m,\u001b[49m\n\u001b[1;32m   1165\u001b[0m \u001b[43m        \u001b[49m\u001b[43m)\u001b[49m\n\u001b[1;32m   1166\u001b[0m     \u001b[38;5;66;03m# The Astropy mode is determined by the _File initializer if the\u001b[39;00m\n\u001b[1;32m   1167\u001b[0m     \u001b[38;5;66;03m# supplied mode was None\u001b[39;00m\n\u001b[1;32m   1168\u001b[0m     mode \u001b[38;5;241m=\u001b[39m fileobj\u001b[38;5;241m.\u001b[39mmode\n",
      "File \u001b[0;32m/scratch/yuyang/conda/envs/toast3/lib/python3.11/site-packages/astropy/io/fits/file.py:218\u001b[0m, in \u001b[0;36m_File.__init__\u001b[0;34m(self, fileobj, mode, memmap, overwrite, cache, use_fsspec, fsspec_kwargs, decompress_in_memory)\u001b[0m\n\u001b[1;32m    216\u001b[0m     \u001b[38;5;28mself\u001b[39m\u001b[38;5;241m.\u001b[39m_open_fileobj(fileobj, mode, overwrite)\n\u001b[1;32m    217\u001b[0m \u001b[38;5;28;01melif\u001b[39;00m \u001b[38;5;28misinstance\u001b[39m(fileobj, (\u001b[38;5;28mstr\u001b[39m, \u001b[38;5;28mbytes\u001b[39m)):\n\u001b[0;32m--> 218\u001b[0m     \u001b[38;5;28;43mself\u001b[39;49m\u001b[38;5;241;43m.\u001b[39;49m\u001b[43m_open_filename\u001b[49m\u001b[43m(\u001b[49m\u001b[43mfileobj\u001b[49m\u001b[43m,\u001b[49m\u001b[43m \u001b[49m\u001b[43mmode\u001b[49m\u001b[43m,\u001b[49m\u001b[43m \u001b[49m\u001b[43moverwrite\u001b[49m\u001b[43m)\u001b[49m\n\u001b[1;32m    219\u001b[0m \u001b[38;5;28;01melse\u001b[39;00m:\n\u001b[1;32m    220\u001b[0m     \u001b[38;5;28mself\u001b[39m\u001b[38;5;241m.\u001b[39m_open_filelike(fileobj, mode, overwrite)\n",
      "File \u001b[0;32m/scratch/yuyang/conda/envs/toast3/lib/python3.11/site-packages/astropy/io/fits/file.py:641\u001b[0m, in \u001b[0;36m_File._open_filename\u001b[0;34m(self, filename, mode, overwrite)\u001b[0m\n\u001b[1;32m    638\u001b[0m ext \u001b[38;5;241m=\u001b[39m os\u001b[38;5;241m.\u001b[39mpath\u001b[38;5;241m.\u001b[39msplitext(\u001b[38;5;28mself\u001b[39m\u001b[38;5;241m.\u001b[39mname)[\u001b[38;5;241m1\u001b[39m]\n\u001b[1;32m    640\u001b[0m \u001b[38;5;28;01mif\u001b[39;00m \u001b[38;5;129;01mnot\u001b[39;00m \u001b[38;5;28mself\u001b[39m\u001b[38;5;241m.\u001b[39m_try_read_compressed(\u001b[38;5;28mself\u001b[39m\u001b[38;5;241m.\u001b[39mname, magic, mode, ext\u001b[38;5;241m=\u001b[39mext):\n\u001b[0;32m--> 641\u001b[0m     \u001b[38;5;28mself\u001b[39m\u001b[38;5;241m.\u001b[39m_file \u001b[38;5;241m=\u001b[39m \u001b[38;5;28mopen\u001b[39m(\u001b[38;5;28mself\u001b[39m\u001b[38;5;241m.\u001b[39mname, IO_FITS_MODES[mode])\n\u001b[1;32m    642\u001b[0m     \u001b[38;5;28mself\u001b[39m\u001b[38;5;241m.\u001b[39mclose_on_error \u001b[38;5;241m=\u001b[39m \u001b[38;5;28;01mTrue\u001b[39;00m\n\u001b[1;32m    644\u001b[0m \u001b[38;5;66;03m# Make certain we're back at the beginning of the file\u001b[39;00m\n\u001b[1;32m    645\u001b[0m \u001b[38;5;66;03m# BZ2File does not support seek when the file is open for writing, but\u001b[39;00m\n\u001b[1;32m    646\u001b[0m \u001b[38;5;66;03m# when opening a file for write, bz2.BZ2File always truncates anyway.\u001b[39;00m\n",
      "\u001b[0;31mFileNotFoundError\u001b[0m: [Errno 2] No such file or directory: 'SO_64/lensingBB/out/56/filterbin_filtered_map.fits'"
     ]
    }
   ],
   "source": [
    "nmc = 100\n",
    "\n",
    "noise = np.zeros((nmc, 3, npix))\n",
    "transfer = np.zeros((nmc,3,npix))\n",
    "full = np.zeros((nmc, 3, npix))\n",
    "planck = np.zeros((nmc, 3, npix))\n",
    "lb = np.zeros((nmc, 3, npix))\n",
    "\n",
    "prefix=f'SO_{nside}'\n",
    "# hits = hp.read_map('small_hits.fits')\n",
    "hits = hp.read_map(f'obsmat_nside{nside}/out/0/filterbin_hits.fits')\n",
    "\n",
    "for mc in tqdm(range(nmc)):\n",
    "    noise[mc] = hp.read_map(f'{prefix}/noise/out/{mc+1000}/filterbin_filtered_map.fits', field=None)\n",
    "    transfer[mc] = hp.read_map(f'{prefix}/transfer/out/{mc+1000}/filterbin_filtered_map.fits', field=None)\n",
    "    full[mc] = hp.read_map(f'{prefix}/lensingBB/out/{mc}/filterbin_filtered_map.fits', field=None)\n",
    "    # full[mc] = hp.read_map(f'{prefix}/leakage/out/{mc}/filterbin_filtered_map.fits', field=None)\n",
    "    planck[mc] = hp.read_map(f'input_maps/nside{nside}/planck_like_E_maps/map_{mc}.fits', field=None) - hp.read_map(f'{prefix}/planck/out/{mc}/filterbin_filtered_map.fits', field=None)\n",
    "    lb[mc] = hp.read_map(f'input_maps/nside{nside}/lb_like_E_maps/map_{mc}.fits', field=None) - hp.read_map(f'{prefix}/lb/out/{mc}/filterbin_filtered_map.fits', field=None)"
   ]
  },
  {
   "cell_type": "code",
   "execution_count": null,
   "id": "ca9f4931-e42a-48c0-a1a5-a29134608e49",
   "metadata": {},
   "outputs": [],
   "source": [
    "# hp.mollview(hits)\n",
    "fsky = len(hits[hits!=0])/npix\n",
    "print(fsky*100)\n",
    "\n",
    "mask = np.zeros_like(hits)\n",
    "mask[hits!=0] = 1\n",
    "mask_apo = nmt.mask_apodization(mask, 6, 'C1')\n",
    "hp.mollview(mask_apo)\n",
    "w2 = np.sum(mask_apo**2)/np.sum(mask)\n",
    "w4 = np.sum(mask_apo**4)/np.sum(mask)\n",
    "\n",
    "b = nmt.NmtBin.from_nside_linear(nside, bin_size)\n",
    "ells = b.get_effective_ells()\n",
    "c2db = ells * (ells+1) /2/np.pi\n",
    "mll,_ = mylib.get_mll(mask_apo, nside, b, pol=False)\n",
    "\n",
    "# sigmab = hp.nside2resol(nside)\n",
    "# fwhm = (8*np.log(2))**0.5 * sigmab\n",
    "fwhm = np.deg2rad(17/60)\n",
    "bl = hp.gauss_beam(fwhm, lmax) "
   ]
  },
  {
   "cell_type": "code",
   "execution_count": null,
   "id": "1ec0aea2-124c-44c5-8e2a-aabdee18e5b9",
   "metadata": {},
   "outputs": [],
   "source": [
    "# Z = sp.sparse.diags_array(mask_apo)\n",
    "# ZZ = sp.sparse.block_diag([Z, Z, Z])\n",
    "\n",
    "# R_unapo = sp.sparse.load_npz(f'obsmat_nside{nside}/obsmat.npz')#[npix:, npix:] #Gets QU \n",
    "# R = ZZ @ R_unapo"
   ]
  },
  {
   "cell_type": "code",
   "execution_count": null,
   "id": "74c54e2e-8cb0-4086-84e1-560d8c74f64e",
   "metadata": {},
   "outputs": [],
   "source": [
    "# reload(mylib)\n",
    "pcl_bb = np.zeros(lmax+1)\n",
    "\n",
    "nmc_transfer=nmc\n",
    "for i in tqdm(range(nmc_transfer)):\n",
    "    # np.random.seed(i+1000)\n",
    "    # m = hp.synfast(input_cls_noEE, nside, fwhm=fwhm, new=True)\n",
    "    # m_obs = (R @ m.flatten()).reshape(3, npix) \n",
    "    m_obs = mask_apo * transfer[i]\n",
    "    pcl_bb += hp.anafast(m_obs)[2]\n",
    "\n",
    "pcl_bb /= nmc_transfer"
   ]
  },
  {
   "cell_type": "code",
   "execution_count": null,
   "id": "8d227e63-e5e6-400e-9e2f-d0c5b652cfae",
   "metadata": {},
   "outputs": [],
   "source": [
    "# reload(mylib)\n",
    "fl_bb = mylib.get_fl(input_cls[2], pcl_bb, bl, mll)\n",
    "# fl_bb = pcl_bb / (input_cls_noEE[2] * w2 * fsky * bl**2)\n",
    "\n",
    "plt.plot(fl_bb)\n",
    "plt.xlim([0, 2*nside])\n",
    "plt.ylim([0, 1])\n",
    "plt.grid()\n",
    "plt.xlabel('ell')\n",
    "# plt.loglog()"
   ]
  },
  {
   "cell_type": "code",
   "execution_count": null,
   "id": "999eaf50-cafa-4d00-937a-77605c7fa5c4",
   "metadata": {},
   "outputs": [],
   "source": [
    "pnl = np.zeros((6, lmax+1))\n",
    "pnl_pure = np.zeros((6, lmax+1))\n",
    "# pi_b = sp.sparse.load_npz('pi_b_64.npz')\n",
    "\n",
    "for i in tqdm(range(nmc)):\n",
    "    pnl += hp.anafast(mask_apo*noise[i])\n",
    "    # noise_pure = (pi_b @ noise[i][1:].flatten()).reshape(2, npix)\n",
    "    # noise[i][1:] = noise_pure\n",
    "    # pnl_pure += hp.anafast(mask_apo*noise[i])\n",
    "    \n",
    "pnl /= nmc\n",
    "# pnl_pure /= nmc\n",
    "\n",
    "pnl_pol = np.array([pnl[1], pnl[4], pnl[4], pnl[2]]) #EE, EB, BE, BB for namaster format\n",
    "# pnl_pure_pol = np.array([pnl_pure[1], pnl_pure[4], pnl_pure[4], pnl_pure[2]]) "
   ]
  },
  {
   "cell_type": "code",
   "execution_count": null,
   "id": "abae5a3f-8259-4d3b-889a-754e080e65ad",
   "metadata": {},
   "outputs": [],
   "source": [
    "plt.plot(pnl_pol[0])\n",
    "# plt.plot(pnl_pure_pol[0], label='pure')\n",
    "plt.grid()\n",
    "plt.semilogy()\n",
    "plt.legend()"
   ]
  },
  {
   "cell_type": "code",
   "execution_count": null,
   "id": "fd1254ec-9c59-4453-84d5-3f8de98cd58f",
   "metadata": {},
   "outputs": [],
   "source": [
    "w_KS = nmt.NmtWorkspace()\n",
    "f_KS = nmt.NmtField(mask_apo, np.empty((2, npix)), beam=bl*np.sqrt(fl_bb), purify_b=True)\n",
    "w_KS.compute_coupling_matrix(f_KS, f_KS, b)\n",
    "\n",
    "w_PCL = nmt.NmtWorkspace()\n",
    "f_PCL = nmt.NmtField(mask_apo, np.empty((2, npix)), beam=bl*np.sqrt(fl_bb))\n",
    "w_PCL.compute_coupling_matrix(f_PCL, f_PCL, b)\n",
    "\n",
    "# nside_matpure = 64\n",
    "# lmax_matpure = 3*nside_matpure-1\n",
    "# npix_matpure = 12*nside_matpure**2\n",
    "# bl_matpure = bl[:lmax_matpure+1]\n",
    "# fl_matpure = fl_bb[:lmax_matpure+1]\n",
    "# b_matpure = nmt.NmtBin.from_nside_linear(nside_matpure, bin_size)\n",
    "# ells_matpure = b_matpure.get_effective_ells()\n",
    "# mask_matpure = hp.ud_grade(mask, nside_matpure)\n",
    "# # mask_apo_matpure = hp.ud_grade(mask_apo, nside_matpure)\n",
    "# mask_apo_matpure = nmt.mask_apodization(mask_matpure, apo_size, 'C2')\n",
    "\n",
    "# w_matpure = nmt.NmtWorkspace()\n",
    "# f_matpure = nmt.NmtField(mask_apo_matpure, np.empty((2, npix_matpure)), beam=bl_matpure*np.sqrt(fl_matpure))\n",
    "# w_matpure.compute_coupling_matrix(f_matpure, f_matpure, b_matpure)\n",
    "\n",
    "w_comb = nmt.NmtWorkspace()\n",
    "f_comb = nmt.NmtField(mask_apo, np.empty((1, npix)), beam=bl*np.sqrt(fl_bb))\n",
    "w_comb.compute_coupling_matrix(f_comb, f_comb, b)\n",
    "bpw = w_comb.get_bandpower_windows()[0,:,0]"
   ]
  },
  {
   "cell_type": "code",
   "execution_count": null,
   "id": "ea6ed420-cc3e-4851-a593-0becb9424c46",
   "metadata": {},
   "outputs": [],
   "source": [
    "cl_KS = np.empty((nmc, 4, len(ells)))\n",
    "nl = np.empty((nmc, 4, len(ells)))\n",
    "cl_restore_planck = np.empty((nmc, 4, len(ells)))\n",
    "cl_restore_lb = np.empty((nmc, 4, len(ells)))\n",
    "cl_matpure = np.empty((nmc, 4, len(ells)))\n",
    "\n",
    "for mc in tqdm(range(nmc)):\n",
    "    #regular KS\n",
    "    f = nmt.NmtField(mask_apo, mask*[full[mc][1], full[mc][2]], purify_b=True)\n",
    "    # cl_KS[mc] = nmt.compute_full_master(f, f, b, workspace=w_KS)\n",
    "    cl_KS[mc] = nmt.compute_full_master(f, f, b, pnl_pol, workspace=w_KS)\n",
    "\n",
    "    #matrix pure\n",
    "    # pure = (pi_b @ full[mc][1:].flatten()).reshape(2, npix)\n",
    "    # f = nmt.NmtField(mask_apo, mask*[pure[0], pure[1]])\n",
    "    # cl_matpure[mc] = nmt.compute_full_master(f, f, b, pnl_pol, workspace=w_PCL)\n",
    "\n",
    "    #noise\n",
    "    f = nmt.NmtField(mask_apo, mask*[noise[mc][1], noise[mc][2]])\n",
    "    nl[mc] = nmt.compute_full_master(f, f, b, workspace=w_PCL)\n",
    "\n",
    "    #planck restored\n",
    "    restored_map = full[mc] + planck[mc]\n",
    "    B_map = hp.alm2map(hp.map2alm(restored_map)[2], nside)\n",
    "    f = nmt.NmtField(mask_apo, mask*[B_map])\n",
    "    # cl_restore_planck[mc] = nmt.compute_full_master(f, f, b, workspace=w_comb)[0]\n",
    "    cl_restore_planck[mc] = nmt.compute_full_master(f, f, b, [pnl[2]], workspace=w_comb)[0]\n",
    "\n",
    "    #lb restored\n",
    "    restored_map = full[mc] + lb[mc]\n",
    "    B_map = hp.alm2map(hp.map2alm(restored_map)[2], nside)\n",
    "    f = nmt.NmtField(mask_apo, mask*[B_map])\n",
    "    # cl_restore_lb[mc] = nmt.compute_full_master(f, f, b, workspace=w_comb)[0]\n",
    "    cl_restore_lb[mc] = nmt.compute_full_master(f, f, b, [pnl[2]], workspace=w_comb)[0]\n",
    "\n",
    "mean_KS = c2db * np.mean(cl_KS, axis=0)\n",
    "std_KS = c2db * np.std(cl_KS, axis=0)\n",
    "\n",
    "mean_restore_planck = c2db * np.mean(cl_restore_planck, axis=0)\n",
    "std_restore_planck = c2db * np.std(cl_restore_planck, axis=0)\n",
    "\n",
    "mean_restore_lb = c2db * np.mean(cl_restore_lb, axis=0)\n",
    "std_restore_lb = c2db * np.std(cl_restore_lb, axis=0)\n",
    "\n",
    "# mean_matpure = c2db * np.mean(cl_matpure, axis=0)\n",
    "# std_matpure = c2db * np.std(cl_matpure, axis=0)\n",
    "\n",
    "mean_nl = np.mean(nl, axis=0)\n",
    "std_nl = np.std(nl, axis=0)"
   ]
  },
  {
   "cell_type": "code",
   "execution_count": null,
   "id": "1d85fd36-69b4-42d6-863f-9d10f52e9b48",
   "metadata": {},
   "outputs": [],
   "source": [
    "planck_P_noise_props = [50, 20, -1.4]\n",
    "Nl_P_planck = mylib.get_Nl(planck_P_noise_props, lmax)\n",
    "\n",
    "lb_P_noise_props = [2.5, 0, 0]\n",
    "Nl_P_lb = mylib.get_Nl(lb_P_noise_props, lmax)\n",
    "\n",
    "sat_pol_baseline = mylib.get_Nl([3.3, 50, -3], lmax)/bl**2\n",
    "# sat_pol_optimal = mylib.get_Nl([np.sqrt(2)*2.1, 25, -3], lmax)/bl**2\n",
    "test = mylib.get_Nl([1, 50, -2], lmax)/bl**2\n",
    "\n",
    "plt.errorbar(ells, c2db*mean_nl[3], yerr=c2db*std_nl[3], fmt='.', label='Nl_bb')\n",
    "plt.plot(c2d*test)\n",
    "plt.plot(c2d*sat_pol_baseline, label='sat pol baseline')\n",
    "\n",
    "plt.legend()\n",
    "plt.loglog()\n",
    "plt.grid()"
   ]
  },
  {
   "cell_type": "code",
   "execution_count": null,
   "id": "3f3e7754-b8d7-43b9-b194-7d57ac891487",
   "metadata": {},
   "outputs": [],
   "source": [
    "nu_l = (2*np.arange(lmax+1)+1)*fsky*w2**2/w4*bin_size*fl_bb\n",
    "knox = (bpw@input_cls[2] + mean_nl[3]) * np.sqrt(2/(bpw@nu_l))\n",
    "\n",
    "fig, axes = plt.subplots(1, 2, figsize=(15, 5))\n",
    "\n",
    "axes[0].errorbar(ells, mean_KS[3], yerr=std_KS[3], fmt='.', label='KS')\n",
    "# axes[0].errorbar(ells, mean_matpure[3], yerr=std_matpure[3], fmt='.', label='matpure')\n",
    "\n",
    "# axes[0].errorbar(ells, mean_KS[0], yerr=std_KS[0], fmt='.', label='EE')\n",
    "# axes[0].errorbar(ells, c2db*mean_nl[3], yerr=c2db*std_nl[3], fmt='.', label='Nl_bb')\n",
    "\n",
    "axes[0].errorbar(ells, mean_restore_planck[3], yerr=std_restore_planck[3], fmt='.', label='restore planck')\n",
    "axes[0].errorbar(ells, mean_restore_lb[3], yerr=std_restore_lb[3], fmt='.', label='restored lb')\n",
    "axes[0].plot(ell_input, BB, label='lensing BB')\n",
    "\n",
    "axes[0].plot(c2d*pnl[2], label='masked filtered BB noise', linestyle='dashed')\n",
    "axes[0].plot(c2d*Nl_P_planck, label='Planck Nl_P', linestyle='dashed')\n",
    "axes[0].plot(c2d*Nl_P_lb, label='LB Nl_P', linestyle='dashed')\n",
    "\n",
    "axes[0].set_title('BB')\n",
    "\n",
    "axes[1].plot(ells, std_KS[3], marker='.',label='std KS')\n",
    "# axes[1].plot(ells, std_matpure[3], marker='.',label='std matpure')\n",
    "# axes[1].plot(ells, std_noleakage[3], marker='.',label='std noleakage')\n",
    "\n",
    "axes[1].plot(ells, std_restore_planck[3], marker='.',label='std restore planck')\n",
    "axes[1].plot(ells, std_restore_lb[3], marker='.',label='std restore lb')\n",
    "axes[1].plot(ells, c2db*knox, label='knox')\n",
    "axes[1].set_title('std(BB)')\n",
    "# axes[1].set_ylim([1e-5,1e0])\n",
    "\n",
    "for ax in axes.flatten():\n",
    "    ax.legend()\n",
    "    ax.set_xlim([10,2*nside])\n",
    "    ax.loglog()\n",
    "    ax.grid()\n",
    "    ax.set_xlabel('ell')\n",
    "    ax.set_ylabel('D_ell')"
   ]
  },
  {
   "cell_type": "code",
   "execution_count": null,
   "id": "fc4b7f2b-7b98-4cd3-b51a-9d6e06ec0d54",
   "metadata": {},
   "outputs": [],
   "source": [
    "import camb\n",
    "pars = camb.read_ini('https://raw.githubusercontent.com/cmbant/CAMB/master/inifiles/planck_2018.ini')\n",
    "pars.WantTensors=True\n",
    "pars.InitPower.set_params(r=1)\n",
    "results = camb.get_results(pars)\n",
    "cl = results.get_tensor_cls(CMB_unit='muK', raw_cl=True)\n",
    "cl_r1 = np.pad(np.array([cl[:,i] for i in range(4)]), ((0,0),(0,lmax+1-cl.shape[0])))"
   ]
  },
  {
   "cell_type": "code",
   "execution_count": null,
   "id": "ba0e004e-b9a9-471d-a5ce-dacf89cbfdf6",
   "metadata": {},
   "outputs": [],
   "source": [
    "sigma_r_KS = np.empty(nmc)\n",
    "sigma_r_planck = np.empty(nmc)\n",
    "sigma_r_lb = np.empty(nmc)\n",
    "\n",
    "cl_BB_r1 = bpw@cl_r1[2] \n",
    "\n",
    "for i in range(nmc):\n",
    "    sigma_r_KS[i] = 1/np.sqrt(fsky/2 * np.sum( (2*ells+1) * (cl_BB_r1 / cl_KS[i][3])**2 )) \n",
    "    sigma_r_planck[i] = 1/np.sqrt(fsky/2 * np.sum( (2*ells+1) * (cl_BB_r1 / cl_restore_planck[i][3])**2 )) \n",
    "    sigma_r_lb[i] = 1/np.sqrt(fsky/2 * np.sum( (2*ells+1) * (cl_BB_r1 / cl_restore_lb[i][3])**2 )) "
   ]
  },
  {
   "cell_type": "code",
   "execution_count": null,
   "id": "cc38497f-6587-47c7-bab9-8d777f2098b9",
   "metadata": {},
   "outputs": [],
   "source": [
    "plt.hist(sigma_r_KS, label='KS', alpha=0.75, edgecolor='black', linewidth=0.5)\n",
    "plt.hist(sigma_r_planck, label='planck', alpha=0.75,edgecolor='black', linewidth=0.5)\n",
    "plt.hist(sigma_r_lb, label='lb', alpha=0.75,edgecolor='black', linewidth=0.5)\n",
    "\n",
    "plt.legend()\n",
    "# plt.ylim([0, 40])\n",
    "# plt.grid()\n",
    "plt.xlabel('sigma(r)')\n",
    "plt.ylabel('# MC')"
   ]
  },
  {
   "cell_type": "code",
   "execution_count": null,
   "id": "2137cb71-d711-4580-960a-552f86d5da5d",
   "metadata": {},
   "outputs": [],
   "source": [
    "np.median(sigma_r_KS), np.median(sigma_r_planck), np.median(sigma_r_lb)"
   ]
  },
  {
   "cell_type": "code",
   "execution_count": null,
   "id": "5fddbe2c-17e0-47f4-92ab-ddc3a7f9a568",
   "metadata": {},
   "outputs": [],
   "source": []
  }
 ],
 "metadata": {
  "kernelspec": {
   "display_name": "Python 3 (ipykernel)",
   "language": "python",
   "name": "python3"
  },
  "language_info": {
   "codemirror_mode": {
    "name": "ipython",
    "version": 3
   },
   "file_extension": ".py",
   "mimetype": "text/x-python",
   "name": "python",
   "nbconvert_exporter": "python",
   "pygments_lexer": "ipython3",
   "version": "3.11.8"
  }
 },
 "nbformat": 4,
 "nbformat_minor": 5
}
