{
 "cells": [
  {
   "cell_type": "code",
   "execution_count": 1,
   "id": "7e5e000b-1b06-40c2-a7b4-c450d7451e3b",
   "metadata": {},
   "outputs": [],
   "source": [
    "import numpy as np \n",
    "import healpy as hp\n",
    "import matplotlib.pyplot as plt\n",
    "from glob import glob\n",
    "import mylib\n",
    "from tqdm import tqdm\n",
    "from importlib import reload\n",
    "import pymaster as nmt"
   ]
  },
  {
   "cell_type": "code",
   "execution_count": 2,
   "id": "45e9cb23-dd52-4471-a009-9434062e8ae3",
   "metadata": {},
   "outputs": [
    {
     "name": "stderr",
     "output_type": "stream",
     "text": [
      "/tmp/ipykernel_43810/721740321.py:10: RuntimeWarning: invalid value encountered in divide\n",
      "  input_cls /= c2d\n"
     ]
    }
   ],
   "source": [
    "nside = 256\n",
    "lmax = 3*nside - 1\n",
    "npix = 12 * nside**2\n",
    "nmc = 10\n",
    "\n",
    "ell_input, TT, TE, EE, BB, PP = np.loadtxt('cl.txt', unpack=True)\n",
    "c2d = ell_input*(ell_input+1)/2/np.pi\n",
    "# input_cls = np.array([TT, EE, np.zeros_like(EE), TE]) #no BB\n",
    "input_cls = np.array([TT, EE, BB, TE]) \n",
    "input_cls /= c2d \n",
    "for c in input_cls: c[0] = 0 \n",
    "input_cls = input_cls[:,:lmax+1]"
   ]
  },
  {
   "cell_type": "code",
   "execution_count": null,
   "id": "1efd7510-0f1e-439e-ae04-ed131ce0c9bc",
   "metadata": {},
   "outputs": [
    {
     "name": "stderr",
     "output_type": "stream",
     "text": [
      " 80%|███████████████████████████████████▏        | 8/10 [04:48<01:10, 35.38s/it]"
     ]
    }
   ],
   "source": [
    "mapdir = 'noise_mc/out/'\n",
    "\n",
    "coadded_noise = np.zeros((nmc, 3, npix))\n",
    "hits = np.zeros((17, npix))\n",
    "\n",
    "for mc in tqdm(range(nmc)):\n",
    "    invcov = np.zeros((17, 6, npix))\n",
    "    nw = np.zeros((17, 3, npix))\n",
    "    for i, schedule in enumerate(sorted(glob(f'{mapdir}{mc:03d}/*'))):\n",
    "        if mc == 0:\n",
    "            hits[i] = hp.read_map(f'{schedule}/filterbin_hits.fits')\n",
    "        # cov[i] = hp.read_map(f'{schedule}/filterbin_cov.fits', field=None)\n",
    "        invcov[i] = hp.read_map(f'{schedule}/filterbin_invcov.fits', field=None)\n",
    "        nw[i] = hp.read_map(f'{schedule}/filterbin_noiseweighted_filtered_map.fits', field=None)\n",
    "        # m[i] = hp.read_map(f'{schedule}/filterbin_filtered_map.fits', field=None)\n",
    "        # hits[i] = hp.read_map(f'{schedule}/filterbin_hits.fits')\n",
    "        # rcond[i] = hp.read_map(f'{schedule}/filterbin_rcond.fits', field=None)\n",
    "    if mc == 0:\n",
    "        coadded_hits = np.sum(hits, axis=0)\n",
    "    coadded_noise[mc] = mylib.coadd_IQU(invcov, nw)"
   ]
  },
  {
   "cell_type": "code",
   "execution_count": null,
   "id": "a5643e5f-a090-49c7-818b-b480f95f9aa4",
   "metadata": {},
   "outputs": [],
   "source": [
    "mapdir = 'signal_mc/out/'\n",
    "\n",
    "coadded_signal = np.zeros((nmc, 3, npix))\n",
    "hits = np.zeros((17, npix))\n",
    "\n",
    "for mc in tqdm(range(nmc)):\n",
    "    invcov = np.zeros((17, 6, npix))\n",
    "    nw = np.zeros((17, 3, npix))\n",
    "    for i, schedule in enumerate(sorted(glob(f'{mapdir}{mc:03d}/*'))):\n",
    "        if mc == 0:\n",
    "            hits[i] = hp.read_map(f'{schedule}/filterbin_hits.fits')\n",
    "        # cov[i] = hp.read_map(f'{schedule}/filterbin_cov.fits', field=None)\n",
    "        invcov[i] = hp.read_map(f'{schedule}/filterbin_invcov.fits', field=None)\n",
    "        nw[i] = hp.read_map(f'{schedule}/filterbin_noiseweighted_filtered_map.fits', field=None)\n",
    "        # m[i] = hp.read_map(f'{schedule}/filterbin_filtered_map.fits', field=None)\n",
    "        # hits[i] = hp.read_map(f'{schedule}/filterbin_hits.fits')\n",
    "        # rcond[i] = hp.read_map(f'{schedule}/filterbin_rcond.fits', field=None)\n",
    "    if mc == 0:\n",
    "        coadded_hits = np.sum(hits, axis=0)\n",
    "    coadded_signal[mc] = mylib.coadd_IQU(invcov, nw)"
   ]
  },
  {
   "cell_type": "code",
   "execution_count": null,
   "id": "f21c53e0-3729-4a87-8913-c5ca5f2d7cfe",
   "metadata": {},
   "outputs": [],
   "source": [
    "mapdir = 'full_mc/out/'\n",
    "\n",
    "coadded_full = np.zeros((nmc, 3, npix))\n",
    "hits = np.zeros((17, npix))\n",
    "\n",
    "for mc in tqdm(range(nmc)):\n",
    "    invcov = np.zeros((17, 6, npix))\n",
    "    nw = np.zeros((17, 3, npix))\n",
    "    for i, schedule in enumerate(sorted(glob(f'{mapdir}{mc:03d}/*'))):\n",
    "        if mc == 0:\n",
    "            hits[i] = hp.read_map(f'{schedule}/filterbin_hits.fits')\n",
    "        # cov[i] = hp.read_map(f'{schedule}/filterbin_cov.fits', field=None)\n",
    "        invcov[i] = hp.read_map(f'{schedule}/filterbin_invcov.fits', field=None)\n",
    "        nw[i] = hp.read_map(f'{schedule}/filterbin_noiseweighted_filtered_map.fits', field=None)\n",
    "        # m[i] = hp.read_map(f'{schedule}/filterbin_filtered_map.fits', field=None)\n",
    "        # hits[i] = hp.read_map(f'{schedule}/filterbin_hits.fits')\n",
    "        # rcond[i] = hp.read_map(f'{schedule}/filterbin_rcond.fits', field=None)\n",
    "    if mc == 0:\n",
    "        coadded_hits = np.sum(hits, axis=0)\n",
    "    coadded_full[mc] = mylib.coadd_IQU(invcov, nw)"
   ]
  },
  {
   "cell_type": "code",
   "execution_count": null,
   "id": "42b580e2-0a97-4184-a9ed-2bdbba5eef98",
   "metadata": {},
   "outputs": [],
   "source": [
    "mask = np.zeros_like(coadded_hits)\n",
    "mask[coadded_hits!=0] = 1"
   ]
  },
  {
   "cell_type": "code",
   "execution_count": null,
   "id": "f328f046-7dec-46c1-bf9a-922aeb6e5f07",
   "metadata": {},
   "outputs": [],
   "source": [
    "mask_apo = nmt.mask_apodization(mask, 6, apotype='C2')\n",
    "hp.mollview(mask_apo)\n",
    "fsky = len(mask_apo[(mask_apo!=0)])/npix\n",
    "w2 = np.sum(mask_apo**2)/np.sum(mask)\n",
    "w4 = np.sum(mask_apo**4)/np.sum(mask)"
   ]
  },
  {
   "cell_type": "code",
   "execution_count": null,
   "id": "cc279dac-4bfc-4199-a482-2fb54058fdb0",
   "metadata": {},
   "outputs": [],
   "source": [
    "b = nmt.NmtBin.from_nside_linear(nside, 20)\n",
    "ells = b.get_effective_ells()\n",
    "c2db = ells * (ells+1) /2/np.pi"
   ]
  },
  {
   "cell_type": "code",
   "execution_count": null,
   "id": "0cf37164-ac3a-4f8d-808a-a1f36be18c42",
   "metadata": {},
   "outputs": [],
   "source": [
    "reload(mylib)\n",
    "# fl_bb = mylib.get_fl(input_cls[2], cl_input, pcl_bb, bl, mll, fsky*w2)\n",
    "fl_bb = mylib.get_fl(input_cls[2], pcl_bb, bl, mll)"
   ]
  },
  {
   "cell_type": "code",
   "execution_count": null,
   "id": "c0739947-52bf-44d2-8378-8a1cd6dc076f",
   "metadata": {},
   "outputs": [],
   "source": [
    "plt.plot(fl_bb)\n",
    "plt.xlim([10, 600])\n",
    "plt.ylim([0, 1])\n",
    "plt.grid()\n",
    "plt.xlabel('ell')"
   ]
  },
  {
   "cell_type": "code",
   "execution_count": null,
   "id": "bd72b8ef-10c9-4385-a1c8-24a848408011",
   "metadata": {},
   "outputs": [],
   "source": [
    "nl = np.empty((nmc, 4, len(ells)))\n",
    "\n",
    "for mc in tqdm(range(nmc)):    \n",
    "    f = nmt.NmtField(mask_apo, [coadded_noise[mc][1], coadded_noise[mc][2]], beam=None, purify_b=False)\n",
    "    nl[mc] = nmt.compute_full_master(f, f, b)\n",
    "\n",
    "nl_mean = np.mean(nl, axis=0)"
   ]
  },
  {
   "cell_type": "code",
   "execution_count": null,
   "id": "97dad8f7-596f-42c3-b581-1d74ffdee242",
   "metadata": {},
   "outputs": [],
   "source": [
    "cl = np.empty((nmc, 4, len(ells)))\n",
    "\n",
    "for mc in tqdm(range(nmc)):\n",
    "    f = nmt.NmtField(mask_apo, [coadded_full[mc][1], coadded_full[mc][2]], beam=None, purify_b=False)\n",
    "    cl[mc] = nmt.compute_full_master(f, f, b, nl_mean)"
   ]
  },
  {
   "cell_type": "code",
   "execution_count": 15,
   "id": "f7d39148-cda7-44cc-9a8f-d32d269d925a",
   "metadata": {},
   "outputs": [],
   "source": [
    "cl_mean = c2db * np.mean(cl, axis=0)\n",
    "cl_std = c2db * np.std(cl, axis=0)"
   ]
  },
  {
   "cell_type": "code",
   "execution_count": null,
   "id": "a7b35fab-4731-40bf-9faf-b8eb9411fdcf",
   "metadata": {},
   "outputs": [],
   "source": [
    "fig, axes = plt.subplots(1, 2, figsize=(15, 5))\n",
    "\n",
    "axes[0].errorbar(ells, cl_mean[3], yerr=cl_std[3], fmt='.', label='BB')\n",
    "axes[0].plot(ell_input, BB, label='input BB')\n",
    "axes[0].set_title('BB')\n",
    "\n",
    "axes[1].plot(ells, cl_std[3], marker='.',label='std BB')\n",
    "# axes[1].plot(ells, c2db*(bpw@knox), label='knox')\n",
    "axes[1].set_title('std(BB)')\n",
    "# axes[1].set_ylim([1e-5,1e0])\n",
    "\n",
    "for ax in axes.flatten():\n",
    "    ax.legend()\n",
    "    # ax.set_xlim([10,600])\n",
    "    ax.loglog()\n",
    "    ax.grid()\n",
    "    ax.set_xlabel('ell')\n",
    "    ax.set_ylabel('D_ell')"
   ]
  },
  {
   "cell_type": "code",
   "execution_count": null,
   "id": "3ec2a6a1-bcc9-4efa-9864-73ddf1d397bf",
   "metadata": {},
   "outputs": [],
   "source": []
  }
 ],
 "metadata": {
  "kernelspec": {
   "display_name": "Python 3 (ipykernel)",
   "language": "python",
   "name": "python3"
  },
  "language_info": {
   "codemirror_mode": {
    "name": "ipython",
    "version": 3
   },
   "file_extension": ".py",
   "mimetype": "text/x-python",
   "name": "python",
   "nbconvert_exporter": "python",
   "pygments_lexer": "ipython3",
   "version": "3.10.12"
  }
 },
 "nbformat": 4,
 "nbformat_minor": 5
}
