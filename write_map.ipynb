{
 "cells": [
  {
   "cell_type": "code",
   "execution_count": 228,
   "id": "7e5e000b-1b06-40c2-a7b4-c450d7451e3b",
   "metadata": {},
   "outputs": [],
   "source": [
    "import numpy as np \n",
    "import healpy as hp\n",
    "import matplotlib.pyplot as plt\n",
    "from glob import glob"
   ]
  },
  {
   "cell_type": "code",
   "execution_count": 231,
   "id": "152f892f-11b8-4f55-903a-5d531c9de6e9",
   "metadata": {},
   "outputs": [
    {
     "name": "stderr",
     "output_type": "stream",
     "text": [
      "/tmp/ipykernel_6854/2534342784.py:6: RuntimeWarning: invalid value encountered in divide\n",
      "  input_cls /= ell_input*(ell_input+1)/2/np.pi\n"
     ]
    }
   ],
   "source": [
    "nside = 256\n",
    "lmax = 3*nside-1\n",
    "ell_input, TT, TE, EE, BB, PP = np.loadtxt('cl.txt', unpack=True)\n",
    "# input_cls = np.array([TT, EE, np.zeros_like(EE), TE]) #no BB\n",
    "input_cls = np.array([TT, EE, BB, TE]) \n",
    "input_cls /= ell_input*(ell_input+1)/2/np.pi \n",
    "for c in input_cls: c[0] = 0 \n",
    "input_cls = input_cls[:,:lmax+1]"
   ]
  },
  {
   "cell_type": "code",
   "execution_count": 232,
   "id": "dc789258-2663-44d6-b0eb-697268ce45ca",
   "metadata": {},
   "outputs": [],
   "source": [
    "np.random.seed(0)\n",
    "input_map = hp.synfast(input_cls, nside, new=True)"
   ]
  },
  {
   "cell_type": "code",
   "execution_count": 235,
   "id": "98f808b0-e628-48c7-ac48-67a20e2cdfee",
   "metadata": {},
   "outputs": [
    {
     "name": "stderr",
     "output_type": "stream",
     "text": [
      "setting the output map dtype to [dtype('float64'), dtype('float64'), dtype('float64')]\n"
     ]
    }
   ],
   "source": [
    "hp.write_map('map.fits', input_map)"
   ]
  },
  {
   "cell_type": "code",
   "execution_count": 229,
   "id": "1efd7510-0f1e-439e-ae04-ed131ce0c9bc",
   "metadata": {},
   "outputs": [],
   "source": [
    "mapdir = 'test/out/schedule0*'\n",
    "cov = np.zeros((17, 12*256**2))\n",
    "invcov = np.zeros((17, 12*256**2))\n",
    "nw = np.zeros((17, 12*256**2))\n",
    "hits = np.zeros((17, 12*256**2))\n",
    "rcond = np.zeros((17, 12*256**2))\n",
    "for i, schedule in enumerate(sorted(glob(mapdir))):\n",
    "    # print(schedule)\n",
    "    cov[i] = hp.read_map(f'{schedule}/filterbin_cov.fits')\n",
    "    invcov[i] = hp.read_map(f'{schedule}/filterbin_invcov.fits')\n",
    "    nw[i] = hp.read_map(f'{schedule}/filterbin_noiseweighted_filtered_map.fits')\n",
    "    m[i] = hp.read_map(f'{schedule}/filterbin_filtered_map.fits')\n",
    "    hits[i] = hp.read_map(f'{schedule}/filterbin_hits.fits')\n",
    "    rcond[i] = hp.read_map(f'{schedule}/filterbin_rcond.fits')"
   ]
  }
 ],
 "metadata": {
  "kernelspec": {
   "display_name": "Python 3 (ipykernel)",
   "language": "python",
   "name": "python3"
  },
  "language_info": {
   "codemirror_mode": {
    "name": "ipython",
    "version": 3
   },
   "file_extension": ".py",
   "mimetype": "text/x-python",
   "name": "python",
   "nbconvert_exporter": "python",
   "pygments_lexer": "ipython3",
   "version": "3.10.12"
  }
 },
 "nbformat": 4,
 "nbformat_minor": 5
}
