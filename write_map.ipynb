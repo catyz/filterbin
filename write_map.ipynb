{
 "cells": [
  {
   "cell_type": "code",
   "execution_count": 1,
   "id": "7e5e000b-1b06-40c2-a7b4-c450d7451e3b",
   "metadata": {},
   "outputs": [],
   "source": [
    "import numpy as np \n",
    "import healpy as hp\n",
    "import matplotlib.pyplot as plt\n",
    "from glob import glob\n",
    "from tqdm import tqdm\n",
    "import mylib\n",
    "import camb"
   ]
  },
  {
   "cell_type": "code",
   "execution_count": 2,
   "id": "152f892f-11b8-4f55-903a-5d531c9de6e9",
   "metadata": {},
   "outputs": [
    {
     "name": "stderr",
     "output_type": "stream",
     "text": [
      "/tmp/ipykernel_13000/1338916599.py:8: RuntimeWarning: invalid value encountered in divide\n",
      "  input_cls /= ell_input*(ell_input+1)/2/np.pi\n"
     ]
    }
   ],
   "source": [
    "nside = 256\n",
    "npix = 12*nside**2\n",
    "lmax = 3*nside-1\n",
    "nmc = 100\n",
    "\n",
    "ell_input, TT, TE, EE, BB, PP = np.loadtxt('cl.txt', unpack=True)\n",
    "input_cls = np.array([TT, EE, BB, TE]) \n",
    "input_cls /= ell_input*(ell_input+1)/2/np.pi \n",
    "for c in input_cls: c[0] = 0 \n",
    "input_cls = input_cls[:,:lmax+1]\n",
    "\n",
    "input_cls_noBB = np.copy(input_cls)\n",
    "input_cls_noBB[2] = np.zeros(lmax+1)\n",
    "\n",
    "input_cls_noEE = np.copy(input_cls)\n",
    "input_cls_noEE[1] = np.zeros(lmax+1)\n",
    "input_cls_noEE[3] = np.zeros(lmax+1)\n",
    "\n",
    "input_cls_onlyBB = np.copy(input_cls)\n",
    "input_cls_onlyBB[0] = np.zeros(lmax+1)\n",
    "input_cls_onlyBB[1] = np.zeros(lmax+1)\n",
    "input_cls_onlyBB[3] = np.zeros(lmax+1)\n",
    "\n",
    "# pars = camb.read_ini('https://raw.githubusercontent.com/cmbant/CAMB/master/inifiles/planck_2018.ini')\n",
    "# results = camb.get_results(pars)\n",
    "# cl = results.get_total_cls(CMB_unit='muK')\n",
    "# input_cls = np.array([cl[:,i][:lmax+1] for i in range(4)])\n",
    "# ls = np.arange(lmax+1)\n",
    "# input_cls /= ls*(ls+1)/2/np.pi \n",
    "# for c in input_cls: c[0] = 0 \n",
    "# pars.WantTensors=True\n",
    "# pars.InitPower.set_params(r=0.1)\n",
    "# results = camb.get_results(pars)\n",
    "# cl = results.get_total_cls(CMB_unit='muK')\n",
    "# input_cls2 = np.array([cl[:,i][:lmax+1] for i in range(4)])\n",
    "# input_cls2 /= ls*(ls+1)/2/np.pi \n",
    "\n",
    "# pars.InitPower.set_params(r=0.01)\n",
    "# results = camb.get_results(pars)\n",
    "# cl = results.get_total_cls(CMB_unit='muK')\n",
    "# input_cls3 = np.array([cl[:,i][:lmax+1] for i in range(4)])\n",
    "# input_cls3 /= ls*(ls+1)/2/np.pi "
   ]
  },
  {
   "cell_type": "code",
   "execution_count": 4,
   "id": "ef392541-b850-4a12-b348-eaf9a5f0cd2c",
   "metadata": {},
   "outputs": [
    {
     "name": "stderr",
     "output_type": "stream",
     "text": [
      "setting the output map dtype to [dtype('float64'), dtype('float64'), dtype('float64')]\n"
     ]
    }
   ],
   "source": [
    "hp.write_map(f'input_maps/lcdm_nside8.fits', hp.synfast(input_cls, 8), overwrite=True)"
   ]
  },
  {
   "cell_type": "code",
   "execution_count": 5,
   "id": "6c797d91-9420-448d-8a94-fb8af94793df",
   "metadata": {},
   "outputs": [
    {
     "name": "stderr",
     "output_type": "stream",
     "text": [
      "setting the output map dtype to [dtype('float64'), dtype('float64'), dtype('float64')]\n"
     ]
    }
   ],
   "source": [
    "hp.write_map(f'input_maps/empty_nside64.fits', hp.synfast(np.zeros_like(input_cls), 64), overwrite=True)"
   ]
  },
  {
   "cell_type": "code",
   "execution_count": 4,
   "id": "c53800f1-239b-4660-b56e-e510ed0ba7c1",
   "metadata": {},
   "outputs": [],
   "source": [
    "# # plt.plot(ell_input, TT, label='TT')\n",
    "# # plt.plot(ell_input, EE, label='EE')\n",
    "# plt.plot(input_cls[2], label='BB (r=0)')\n",
    "# plt.plot(input_cls3[2], label='BB (r=0.01)')\n",
    "# plt.plot(input_cls2[2], label='BB (r=0.1)')\n",
    "\n",
    "# plt.xlim([2,lmax+1])\n",
    "# plt.loglog()\n",
    "# plt.legend()\n",
    "# plt.xlabel('ell')\n",
    "# plt.ylabel('C_l [uK^2]')\n",
    "# plt.grid()\n",
    "# # plt.title('Planck best-fit EE/BB 2018')"
   ]
  },
  {
   "cell_type": "code",
   "execution_count": 4,
   "id": "cfac93f8-927e-4fbd-88b8-fd11321fdf7e",
   "metadata": {},
   "outputs": [],
   "source": [
    "# mask_lat = np.zeros(hp.nside2npix(nside))\n",
    "# th, ph = hp.pix2ang(nside, np.arange(hp.nside2npix(nside)))\n",
    "# ph[np.where(ph > np.pi)[0]] -= 2 * np.pi\n",
    "# mask_lat[np.where((th < 2.7) & (th > 1.7)& (ph > -np.pi) & (ph < np.pi) )[0]] = 1\n",
    "\n",
    "# hp.mollview(mask_lat)\n",
    "# print(sum(mask_lat)/npix)"
   ]
  },
  {
   "cell_type": "code",
   "execution_count": 5,
   "id": "2bdb7367-bc56-41fd-9d87-83b0580e4820",
   "metadata": {},
   "outputs": [],
   "source": [
    "\n",
    "\n",
    "# lat_T_noise_props = [10, 1000, -3.5]\n",
    "# lat_P_noise_props = [10*np.sqrt(2), 700, -1.4]\n",
    "# Nl_T = mylib.get_Nl(lat_T_noise_props, lmax)\n",
    "# Nl_P = mylib.get_Nl(lat_P_noise_props, lmax)\n",
    "# lat_noise_cls = np.array([Nl_T, Nl_P, Nl_P, np.zeros(lmax+1)])"
   ]
  },
  {
   "cell_type": "code",
   "execution_count": 6,
   "id": "c65ae992-aa65-418e-9443-5fef606accfb",
   "metadata": {},
   "outputs": [
    {
     "name": "stderr",
     "output_type": "stream",
     "text": [
      "/scratch/yuyang/filterbin/mylib.py:81: RuntimeWarning: divide by zero encountered in power\n",
      "  Nl = n * (l/knee)**alpha + n\n"
     ]
    }
   ],
   "source": [
    "\n",
    "\n",
    "\n",
    "planck_T_noise_props = [25, 50, -1.8]\n",
    "planck_P_noise_props = [50, 20, -1.4]\n",
    "Nl_T_planck = mylib.get_Nl(planck_T_noise_props, lmax)\n",
    "Nl_P_planck = mylib.get_Nl(planck_P_noise_props, lmax)\n",
    "planck_noise_cls = np.array([Nl_T_planck, Nl_P_planck, Nl_P_planck, np.zeros(lmax+1)])\n",
    "\n",
    "\n",
    "lb_T_noise_props = [1.25, 0, 0]\n",
    "lb_P_noise_props = [2.5, 0, 0]\n",
    "Nl_T_lb = mylib.get_Nl(lb_T_noise_props, lmax)\n",
    "Nl_P_lb = mylib.get_Nl(lb_P_noise_props, lmax)\n",
    "lb_noise_cls = np.array([Nl_T_lb, Nl_P_lb, Nl_P_lb, np.zeros(lmax+1)])\n",
    "\n",
    "\n",
    "fwhm = np.deg2rad(17/60) #sat 145ghz"
   ]
  },
  {
   "cell_type": "code",
   "execution_count": 7,
   "id": "3b7a83aa-aac5-4e9d-92c5-c95914b1049d",
   "metadata": {},
   "outputs": [
    {
     "name": "stderr",
     "output_type": "stream",
     "text": [
      "  0%|                                                   | 0/100 [00:00<?, ?it/s]setting the output map dtype to [dtype('float64'), dtype('float64'), dtype('float64')]\n",
      "  1%|▍                                          | 1/100 [00:00<00:59,  1.66it/s]setting the output map dtype to [dtype('float64'), dtype('float64'), dtype('float64')]\n",
      "  2%|▊                                          | 2/100 [00:01<00:48,  2.02it/s]setting the output map dtype to [dtype('float64'), dtype('float64'), dtype('float64')]\n",
      "  3%|█▎                                         | 3/100 [00:01<00:42,  2.26it/s]setting the output map dtype to [dtype('float64'), dtype('float64'), dtype('float64')]\n",
      "  4%|█▋                                         | 4/100 [00:01<00:40,  2.35it/s]setting the output map dtype to [dtype('float64'), dtype('float64'), dtype('float64')]\n",
      "  5%|██▏                                        | 5/100 [00:02<00:37,  2.54it/s]setting the output map dtype to [dtype('float64'), dtype('float64'), dtype('float64')]\n",
      "  6%|██▌                                        | 6/100 [00:02<00:36,  2.61it/s]setting the output map dtype to [dtype('float64'), dtype('float64'), dtype('float64')]\n",
      "  7%|███                                        | 7/100 [00:02<00:34,  2.70it/s]setting the output map dtype to [dtype('float64'), dtype('float64'), dtype('float64')]\n",
      "  8%|███▍                                       | 8/100 [00:03<00:34,  2.67it/s]setting the output map dtype to [dtype('float64'), dtype('float64'), dtype('float64')]\n",
      "  9%|███▊                                       | 9/100 [00:03<00:33,  2.69it/s]setting the output map dtype to [dtype('float64'), dtype('float64'), dtype('float64')]\n",
      " 10%|████▏                                     | 10/100 [00:03<00:33,  2.72it/s]setting the output map dtype to [dtype('float64'), dtype('float64'), dtype('float64')]\n",
      " 11%|████▌                                     | 11/100 [00:04<00:31,  2.80it/s]setting the output map dtype to [dtype('float64'), dtype('float64'), dtype('float64')]\n",
      " 12%|█████                                     | 12/100 [00:04<00:31,  2.76it/s]setting the output map dtype to [dtype('float64'), dtype('float64'), dtype('float64')]\n",
      " 13%|█████▍                                    | 13/100 [00:05<00:31,  2.79it/s]setting the output map dtype to [dtype('float64'), dtype('float64'), dtype('float64')]\n",
      " 14%|█████▉                                    | 14/100 [00:05<00:30,  2.80it/s]setting the output map dtype to [dtype('float64'), dtype('float64'), dtype('float64')]\n",
      " 15%|██████▎                                   | 15/100 [00:05<00:29,  2.84it/s]setting the output map dtype to [dtype('float64'), dtype('float64'), dtype('float64')]\n",
      " 16%|██████▋                                   | 16/100 [00:06<00:29,  2.83it/s]setting the output map dtype to [dtype('float64'), dtype('float64'), dtype('float64')]\n",
      " 17%|███████▏                                  | 17/100 [00:06<00:29,  2.86it/s]setting the output map dtype to [dtype('float64'), dtype('float64'), dtype('float64')]\n",
      " 18%|███████▌                                  | 18/100 [00:06<00:29,  2.81it/s]setting the output map dtype to [dtype('float64'), dtype('float64'), dtype('float64')]\n",
      " 19%|███████▉                                  | 19/100 [00:07<00:28,  2.85it/s]setting the output map dtype to [dtype('float64'), dtype('float64'), dtype('float64')]\n",
      " 20%|████████▍                                 | 20/100 [00:07<00:28,  2.85it/s]setting the output map dtype to [dtype('float64'), dtype('float64'), dtype('float64')]\n",
      " 21%|████████▊                                 | 21/100 [00:07<00:27,  2.88it/s]setting the output map dtype to [dtype('float64'), dtype('float64'), dtype('float64')]\n",
      " 22%|█████████▏                                | 22/100 [00:08<00:27,  2.85it/s]setting the output map dtype to [dtype('float64'), dtype('float64'), dtype('float64')]\n",
      " 23%|█████████▋                                | 23/100 [00:08<00:27,  2.84it/s]setting the output map dtype to [dtype('float64'), dtype('float64'), dtype('float64')]\n",
      " 24%|██████████                                | 24/100 [00:08<00:27,  2.81it/s]setting the output map dtype to [dtype('float64'), dtype('float64'), dtype('float64')]\n",
      " 25%|██████████▌                               | 25/100 [00:09<00:26,  2.85it/s]setting the output map dtype to [dtype('float64'), dtype('float64'), dtype('float64')]\n",
      " 26%|██████████▉                               | 26/100 [00:09<00:26,  2.83it/s]setting the output map dtype to [dtype('float64'), dtype('float64'), dtype('float64')]\n",
      " 27%|███████████▎                              | 27/100 [00:09<00:25,  2.87it/s]setting the output map dtype to [dtype('float64'), dtype('float64'), dtype('float64')]\n",
      " 28%|███████████▊                              | 28/100 [00:10<00:25,  2.84it/s]setting the output map dtype to [dtype('float64'), dtype('float64'), dtype('float64')]\n",
      " 29%|████████████▏                             | 29/100 [00:10<00:24,  2.88it/s]setting the output map dtype to [dtype('float64'), dtype('float64'), dtype('float64')]\n",
      " 30%|████████████▌                             | 30/100 [00:10<00:24,  2.86it/s]setting the output map dtype to [dtype('float64'), dtype('float64'), dtype('float64')]\n",
      " 31%|█████████████                             | 31/100 [00:11<00:23,  2.89it/s]setting the output map dtype to [dtype('float64'), dtype('float64'), dtype('float64')]\n",
      " 32%|█████████████▍                            | 32/100 [00:11<00:23,  2.88it/s]setting the output map dtype to [dtype('float64'), dtype('float64'), dtype('float64')]\n",
      " 33%|█████████████▊                            | 33/100 [00:11<00:22,  2.92it/s]setting the output map dtype to [dtype('float64'), dtype('float64'), dtype('float64')]\n",
      " 34%|██████████████▎                           | 34/100 [00:12<00:23,  2.84it/s]setting the output map dtype to [dtype('float64'), dtype('float64'), dtype('float64')]\n",
      " 35%|██████████████▋                           | 35/100 [00:12<00:22,  2.87it/s]setting the output map dtype to [dtype('float64'), dtype('float64'), dtype('float64')]\n",
      " 36%|███████████████                           | 36/100 [00:13<00:22,  2.85it/s]setting the output map dtype to [dtype('float64'), dtype('float64'), dtype('float64')]\n",
      " 37%|███████████████▌                          | 37/100 [00:13<00:21,  2.88it/s]setting the output map dtype to [dtype('float64'), dtype('float64'), dtype('float64')]\n",
      " 38%|███████████████▉                          | 38/100 [00:13<00:21,  2.88it/s]setting the output map dtype to [dtype('float64'), dtype('float64'), dtype('float64')]\n",
      " 39%|████████████████▍                         | 39/100 [00:14<00:21,  2.90it/s]setting the output map dtype to [dtype('float64'), dtype('float64'), dtype('float64')]\n",
      " 40%|████████████████▊                         | 40/100 [00:14<00:21,  2.83it/s]setting the output map dtype to [dtype('float64'), dtype('float64'), dtype('float64')]\n",
      " 41%|█████████████████▏                        | 41/100 [00:14<00:20,  2.86it/s]setting the output map dtype to [dtype('float64'), dtype('float64'), dtype('float64')]\n",
      " 42%|█████████████████▋                        | 42/100 [00:15<00:20,  2.85it/s]setting the output map dtype to [dtype('float64'), dtype('float64'), dtype('float64')]\n",
      " 43%|██████████████████                        | 43/100 [00:15<00:19,  2.88it/s]setting the output map dtype to [dtype('float64'), dtype('float64'), dtype('float64')]\n",
      " 44%|██████████████████▍                       | 44/100 [00:15<00:19,  2.86it/s]setting the output map dtype to [dtype('float64'), dtype('float64'), dtype('float64')]\n",
      " 45%|██████████████████▉                       | 45/100 [00:16<00:19,  2.88it/s]setting the output map dtype to [dtype('float64'), dtype('float64'), dtype('float64')]\n",
      " 46%|███████████████████▎                      | 46/100 [00:16<00:19,  2.81it/s]setting the output map dtype to [dtype('float64'), dtype('float64'), dtype('float64')]\n",
      " 47%|███████████████████▋                      | 47/100 [00:16<00:18,  2.86it/s]setting the output map dtype to [dtype('float64'), dtype('float64'), dtype('float64')]\n",
      " 48%|████████████████████▏                     | 48/100 [00:17<00:18,  2.86it/s]setting the output map dtype to [dtype('float64'), dtype('float64'), dtype('float64')]\n",
      " 49%|████████████████████▌                     | 49/100 [00:17<00:17,  2.88it/s]setting the output map dtype to [dtype('float64'), dtype('float64'), dtype('float64')]\n",
      " 50%|█████████████████████                     | 50/100 [00:17<00:17,  2.86it/s]setting the output map dtype to [dtype('float64'), dtype('float64'), dtype('float64')]\n",
      " 51%|█████████████████████▍                    | 51/100 [00:18<00:17,  2.87it/s]setting the output map dtype to [dtype('float64'), dtype('float64'), dtype('float64')]\n",
      " 52%|█████████████████████▊                    | 52/100 [00:18<00:17,  2.80it/s]setting the output map dtype to [dtype('float64'), dtype('float64'), dtype('float64')]\n",
      " 53%|██████████████████████▎                   | 53/100 [00:19<00:16,  2.84it/s]setting the output map dtype to [dtype('float64'), dtype('float64'), dtype('float64')]\n",
      " 54%|██████████████████████▋                   | 54/100 [00:19<00:16,  2.83it/s]setting the output map dtype to [dtype('float64'), dtype('float64'), dtype('float64')]\n",
      " 55%|███████████████████████                   | 55/100 [00:19<00:15,  2.87it/s]setting the output map dtype to [dtype('float64'), dtype('float64'), dtype('float64')]\n",
      " 56%|███████████████████████▌                  | 56/100 [00:20<00:15,  2.85it/s]setting the output map dtype to [dtype('float64'), dtype('float64'), dtype('float64')]\n",
      " 57%|███████████████████████▉                  | 57/100 [00:20<00:14,  2.87it/s]setting the output map dtype to [dtype('float64'), dtype('float64'), dtype('float64')]\n",
      " 58%|████████████████████████▎                 | 58/100 [00:20<00:14,  2.81it/s]setting the output map dtype to [dtype('float64'), dtype('float64'), dtype('float64')]\n",
      " 59%|████████████████████████▊                 | 59/100 [00:21<00:14,  2.85it/s]setting the output map dtype to [dtype('float64'), dtype('float64'), dtype('float64')]\n",
      " 60%|█████████████████████████▏                | 60/100 [00:21<00:14,  2.85it/s]setting the output map dtype to [dtype('float64'), dtype('float64'), dtype('float64')]\n",
      " 61%|█████████████████████████▌                | 61/100 [00:21<00:13,  2.87it/s]setting the output map dtype to [dtype('float64'), dtype('float64'), dtype('float64')]\n",
      " 62%|██████████████████████████                | 62/100 [00:22<00:13,  2.83it/s]setting the output map dtype to [dtype('float64'), dtype('float64'), dtype('float64')]\n",
      " 63%|██████████████████████████▍               | 63/100 [00:22<00:12,  2.86it/s]setting the output map dtype to [dtype('float64'), dtype('float64'), dtype('float64')]\n",
      " 64%|██████████████████████████▉               | 64/100 [00:22<00:12,  2.80it/s]setting the output map dtype to [dtype('float64'), dtype('float64'), dtype('float64')]\n",
      " 65%|███████████████████████████▎              | 65/100 [00:23<00:12,  2.83it/s]setting the output map dtype to [dtype('float64'), dtype('float64'), dtype('float64')]\n",
      " 66%|███████████████████████████▋              | 66/100 [00:23<00:12,  2.82it/s]setting the output map dtype to [dtype('float64'), dtype('float64'), dtype('float64')]\n",
      " 67%|████████████████████████████▏             | 67/100 [00:23<00:11,  2.83it/s]setting the output map dtype to [dtype('float64'), dtype('float64'), dtype('float64')]\n",
      " 68%|████████████████████████████▌             | 68/100 [00:24<00:11,  2.83it/s]setting the output map dtype to [dtype('float64'), dtype('float64'), dtype('float64')]\n",
      " 69%|████████████████████████████▉             | 69/100 [00:24<00:10,  2.87it/s]setting the output map dtype to [dtype('float64'), dtype('float64'), dtype('float64')]\n",
      " 70%|█████████████████████████████▍            | 70/100 [00:25<00:10,  2.81it/s]setting the output map dtype to [dtype('float64'), dtype('float64'), dtype('float64')]\n",
      " 71%|█████████████████████████████▊            | 71/100 [00:25<00:10,  2.85it/s]setting the output map dtype to [dtype('float64'), dtype('float64'), dtype('float64')]\n",
      " 72%|██████████████████████████████▏           | 72/100 [00:25<00:09,  2.83it/s]setting the output map dtype to [dtype('float64'), dtype('float64'), dtype('float64')]\n",
      " 73%|██████████████████████████████▋           | 73/100 [00:26<00:09,  2.88it/s]setting the output map dtype to [dtype('float64'), dtype('float64'), dtype('float64')]\n",
      " 74%|███████████████████████████████           | 74/100 [00:26<00:09,  2.87it/s]setting the output map dtype to [dtype('float64'), dtype('float64'), dtype('float64')]\n",
      " 75%|███████████████████████████████▌          | 75/100 [00:26<00:08,  2.88it/s]setting the output map dtype to [dtype('float64'), dtype('float64'), dtype('float64')]\n",
      " 76%|███████████████████████████████▉          | 76/100 [00:27<00:08,  2.84it/s]setting the output map dtype to [dtype('float64'), dtype('float64'), dtype('float64')]\n",
      " 77%|████████████████████████████████▎         | 77/100 [00:27<00:07,  2.88it/s]setting the output map dtype to [dtype('float64'), dtype('float64'), dtype('float64')]\n",
      " 78%|████████████████████████████████▊         | 78/100 [00:27<00:07,  2.83it/s]setting the output map dtype to [dtype('float64'), dtype('float64'), dtype('float64')]\n",
      " 79%|█████████████████████████████████▏        | 79/100 [00:28<00:07,  2.80it/s]setting the output map dtype to [dtype('float64'), dtype('float64'), dtype('float64')]\n",
      " 80%|█████████████████████████████████▌        | 80/100 [00:28<00:07,  2.79it/s]setting the output map dtype to [dtype('float64'), dtype('float64'), dtype('float64')]\n",
      " 81%|██████████████████████████████████        | 81/100 [00:28<00:06,  2.85it/s]setting the output map dtype to [dtype('float64'), dtype('float64'), dtype('float64')]\n",
      " 82%|██████████████████████████████████▍       | 82/100 [00:29<00:06,  2.81it/s]setting the output map dtype to [dtype('float64'), dtype('float64'), dtype('float64')]\n",
      " 83%|██████████████████████████████████▊       | 83/100 [00:29<00:06,  2.80it/s]setting the output map dtype to [dtype('float64'), dtype('float64'), dtype('float64')]\n",
      " 84%|███████████████████████████████████▎      | 84/100 [00:29<00:05,  2.73it/s]setting the output map dtype to [dtype('float64'), dtype('float64'), dtype('float64')]\n",
      " 85%|███████████████████████████████████▋      | 85/100 [00:30<00:05,  2.76it/s]setting the output map dtype to [dtype('float64'), dtype('float64'), dtype('float64')]\n",
      " 86%|████████████████████████████████████      | 86/100 [00:30<00:05,  2.78it/s]setting the output map dtype to [dtype('float64'), dtype('float64'), dtype('float64')]\n",
      " 87%|████████████████████████████████████▌     | 87/100 [00:31<00:04,  2.81it/s]setting the output map dtype to [dtype('float64'), dtype('float64'), dtype('float64')]\n",
      " 88%|████████████████████████████████████▉     | 88/100 [00:31<00:04,  2.81it/s]setting the output map dtype to [dtype('float64'), dtype('float64'), dtype('float64')]\n",
      " 89%|█████████████████████████████████████▍    | 89/100 [00:31<00:03,  2.83it/s]setting the output map dtype to [dtype('float64'), dtype('float64'), dtype('float64')]\n",
      " 90%|█████████████████████████████████████▊    | 90/100 [00:32<00:03,  2.78it/s]setting the output map dtype to [dtype('float64'), dtype('float64'), dtype('float64')]\n",
      " 91%|██████████████████████████████████████▏   | 91/100 [00:32<00:03,  2.82it/s]setting the output map dtype to [dtype('float64'), dtype('float64'), dtype('float64')]\n",
      " 92%|██████████████████████████████████████▋   | 92/100 [00:32<00:02,  2.78it/s]setting the output map dtype to [dtype('float64'), dtype('float64'), dtype('float64')]\n",
      " 93%|███████████████████████████████████████   | 93/100 [00:33<00:02,  2.83it/s]setting the output map dtype to [dtype('float64'), dtype('float64'), dtype('float64')]\n",
      " 94%|███████████████████████████████████████▍  | 94/100 [00:33<00:02,  2.79it/s]setting the output map dtype to [dtype('float64'), dtype('float64'), dtype('float64')]\n",
      " 95%|███████████████████████████████████████▉  | 95/100 [00:33<00:01,  2.81it/s]setting the output map dtype to [dtype('float64'), dtype('float64'), dtype('float64')]\n",
      " 96%|████████████████████████████████████████▎ | 96/100 [00:34<00:01,  2.80it/s]setting the output map dtype to [dtype('float64'), dtype('float64'), dtype('float64')]\n",
      " 97%|████████████████████████████████████████▋ | 97/100 [00:34<00:01,  2.84it/s]setting the output map dtype to [dtype('float64'), dtype('float64'), dtype('float64')]\n",
      " 98%|█████████████████████████████████████████▏| 98/100 [00:34<00:00,  2.85it/s]setting the output map dtype to [dtype('float64'), dtype('float64'), dtype('float64')]\n",
      " 99%|█████████████████████████████████████████▌| 99/100 [00:35<00:00,  2.86it/s]setting the output map dtype to [dtype('float64'), dtype('float64'), dtype('float64')]\n",
      "100%|█████████████████████████████████████████| 100/100 [00:35<00:00,  2.80it/s]\n"
     ]
    }
   ],
   "source": [
    "for i in tqdm(range(nmc)):\n",
    "    # np.random.seed(i)\n",
    "    # input_map = hp.synfast(input_cls, nside, fwhm=fwhm,new=True)\n",
    "    # hp.write_map(f'lcdm_maps/map_{i}.fits', input_map, overwrite=True)\n",
    "\n",
    "    #Noleakage\n",
    "    np.random.seed(i)\n",
    "    input_map_onlyBB = hp.synfast(input_cls_onlyBB, nside, fwhm=fwhm, new=True)\n",
    "    hp.write_map(f'input_maps/lcdm_BBonly_maps/map_{i}.fits', input_map_onlyBB, overwrite=True)\n",
    "\n",
    "    #Leakage    \n",
    "    # input_map = hp.synfast(input_cls_noBB, nside, fwhm=fwhm,new=True)\n",
    "    # hp.write_map(f'input_maps/lcdm_noBB_maps/map_{i}.fits', input_map, overwrite=True)\n",
    "\n",
    "    #Planck\n",
    "    # planck_noise = hp.synfast(planck_noise_cls, nside, new=True)\n",
    "    # wienered_planck_map = mylib.wiener_filter(input_map+planck_noise, input_cls, planck_noise_cls)\n",
    "    # hp.write_map(f'input_maps/planck_like_E_maps/map_{i}.fits', wienered_planck_map, overwrite=True)\n",
    "\n",
    "    #LB\n",
    "    # lb_noise = hp.synfast(lb_noise_cls, nside, new=True)\n",
    "    # wienered_lb_map = mylib.wiener_filter(input_map+lb_noise, input_cls, lb_noise_cls)\n",
    "    # hp.write_map(f'input_maps/lb_like_E_maps/map_{i}.fits', wienered_lb_map, overwrite=True)\n",
    "\n",
    "    #Transfer function\n",
    "    # np.random.seed(i+1000)\n",
    "    # input_map_onlyBB = hp.synfast(input_cls_onlyBB, nside, fwhm=fwhm, new=True)\n",
    "    # hp.write_map(f'input_maps/lcdm_BBonly_maps/map_{i+1000}.fits', input_map_onlyBB, overwrite=True)\n",
    "\n",
    "    # lat_noise = hp.synfast(lat_noise_cls, nside, new=True)\n",
    "    # wienered_lat_map = mask_lat*mylib.wiener_filter(input_map+lat_noise, input_cls, lat_noise_cls)\n",
    "    # hp.write_map(f'input_maps/lat_like_E_maps/map_{i}.fits', wienered_lat_map, overwrite=True)"
   ]
  },
  {
   "cell_type": "code",
   "execution_count": null,
   "id": "428ac18e-2204-4cbb-987a-7555f714f1b3",
   "metadata": {},
   "outputs": [],
   "source": []
  }
 ],
 "metadata": {
  "kernelspec": {
   "display_name": "Python 3 (ipykernel)",
   "language": "python",
   "name": "python3"
  },
  "language_info": {
   "codemirror_mode": {
    "name": "ipython",
    "version": 3
   },
   "file_extension": ".py",
   "mimetype": "text/x-python",
   "name": "python",
   "nbconvert_exporter": "python",
   "pygments_lexer": "ipython3",
   "version": "3.11.8"
  }
 },
 "nbformat": 4,
 "nbformat_minor": 5
}
